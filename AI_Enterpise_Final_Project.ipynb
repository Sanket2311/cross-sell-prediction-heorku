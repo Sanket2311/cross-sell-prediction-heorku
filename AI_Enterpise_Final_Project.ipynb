{
  "nbformat": 4,
  "nbformat_minor": 0,
  "metadata": {
    "accelerator": "GPU",
    "colab": {
      "name": "AI_Enterpise_Final_Project.ipynb",
      "provenance": [],
      "collapsed_sections": [],
      "toc_visible": true
    },
    "kernelspec": {
      "display_name": "Python 3",
      "name": "python3"
    },
    "language_info": {
      "name": "python"
    }
  },
  "cells": [
    {
      "cell_type": "markdown",
      "metadata": {
        "id": "DnZK3_niEAs1"
      },
      "source": [
        "# Importing Libraries and Dataset"
      ]
    },
    {
      "cell_type": "code",
      "metadata": {
        "_kg_hide-input": true,
        "execution": {
          "iopub.execute_input": "2021-03-31T11:48:38.622877Z",
          "iopub.status.busy": "2021-03-31T11:48:38.622129Z",
          "iopub.status.idle": "2021-03-31T11:48:41.758900Z",
          "shell.execute_reply": "2021-03-31T11:48:41.757783Z"
        },
        "papermill": {
          "duration": 3.190751,
          "end_time": "2021-03-31T11:48:41.759157",
          "exception": false,
          "start_time": "2021-03-31T11:48:38.568406",
          "status": "completed"
        },
        "tags": [],
        "id": "k3zrLyJbgHE7"
      },
      "source": [
        "#Importing Libraries\n",
        "\n",
        "import pandas as pd\n",
        "import numpy as np\n",
        "import pickle\n",
        "from sklearn.preprocessing import StandardScaler\n",
        "import plotly.express as px\n",
        "import matplotlib.pyplot as plt\n",
        "import seaborn as sns\n",
        "from sklearn.model_selection import train_test_split\n",
        "from sklearn.model_selection import GridSearchCV\n",
        "from sklearn.tree import DecisionTreeClassifier\n",
        "from sklearn.linear_model import LogisticRegression\n",
        "from sklearn.ensemble import RandomForestClassifier,GradientBoostingClassifier,AdaBoostClassifier\n",
        "from xgboost import XGBClassifier\n",
        "from sklearn.neighbors import KNeighborsClassifier\n",
        "from sklearn.metrics import classification_report,confusion_matrix,r2_score\n",
        "from sklearn.naive_bayes import CategoricalNB\n",
        "from sklearn.svm import LinearSVC\n",
        "\n",
        "from sklearn.metrics import classification_report,confusion_matrix,r2_score\n",
        "from imblearn.over_sampling import SMOTE\n",
        "import warnings\n",
        "warnings.filterwarnings('ignore')"
      ],
      "execution_count": null,
      "outputs": []
    },
    {
      "cell_type": "code",
      "metadata": {
        "execution": {
          "iopub.execute_input": "2021-03-31T11:48:41.867068Z",
          "iopub.status.busy": "2021-03-31T11:48:41.866331Z",
          "iopub.status.idle": "2021-03-31T11:48:42.720073Z",
          "shell.execute_reply": "2021-03-31T11:48:42.720582Z"
        },
        "papermill": {
          "duration": 0.911527,
          "end_time": "2021-03-31T11:48:42.720846",
          "exception": false,
          "start_time": "2021-03-31T11:48:41.809319",
          "status": "completed"
        },
        "tags": [],
        "id": "AXUrTzbJgHE7",
        "colab": {
          "base_uri": "https://localhost:8080/",
          "height": 215
        },
        "outputId": "873fbad0-dc7f-4de2-b97c-40bd5c8a65f5"
      },
      "source": [
        "df=pd.read_csv('/content/train.csv')\n",
        "data=df.copy()\n",
        "data.head()"
      ],
      "execution_count": null,
      "outputs": [
        {
          "output_type": "execute_result",
          "data": {
            "text/html": [
              "<div>\n",
              "<style scoped>\n",
              "    .dataframe tbody tr th:only-of-type {\n",
              "        vertical-align: middle;\n",
              "    }\n",
              "\n",
              "    .dataframe tbody tr th {\n",
              "        vertical-align: top;\n",
              "    }\n",
              "\n",
              "    .dataframe thead th {\n",
              "        text-align: right;\n",
              "    }\n",
              "</style>\n",
              "<table border=\"1\" class=\"dataframe\">\n",
              "  <thead>\n",
              "    <tr style=\"text-align: right;\">\n",
              "      <th></th>\n",
              "      <th>id</th>\n",
              "      <th>Gender</th>\n",
              "      <th>Age</th>\n",
              "      <th>Driving_License</th>\n",
              "      <th>Region_Code</th>\n",
              "      <th>Previously_Insured</th>\n",
              "      <th>Vehicle_Age</th>\n",
              "      <th>Vehicle_Damage</th>\n",
              "      <th>Annual_Premium</th>\n",
              "      <th>Policy_Sales_Channel</th>\n",
              "      <th>Vintage</th>\n",
              "      <th>Response</th>\n",
              "    </tr>\n",
              "  </thead>\n",
              "  <tbody>\n",
              "    <tr>\n",
              "      <th>0</th>\n",
              "      <td>1</td>\n",
              "      <td>Male</td>\n",
              "      <td>44</td>\n",
              "      <td>1</td>\n",
              "      <td>28</td>\n",
              "      <td>0</td>\n",
              "      <td>&gt; 2 Years</td>\n",
              "      <td>Yes</td>\n",
              "      <td>40454</td>\n",
              "      <td>26</td>\n",
              "      <td>217</td>\n",
              "      <td>1</td>\n",
              "    </tr>\n",
              "    <tr>\n",
              "      <th>1</th>\n",
              "      <td>2</td>\n",
              "      <td>Male</td>\n",
              "      <td>76</td>\n",
              "      <td>1</td>\n",
              "      <td>3</td>\n",
              "      <td>0</td>\n",
              "      <td>1-2 Year</td>\n",
              "      <td>No</td>\n",
              "      <td>33536</td>\n",
              "      <td>26</td>\n",
              "      <td>183</td>\n",
              "      <td>0</td>\n",
              "    </tr>\n",
              "    <tr>\n",
              "      <th>2</th>\n",
              "      <td>3</td>\n",
              "      <td>Male</td>\n",
              "      <td>47</td>\n",
              "      <td>1</td>\n",
              "      <td>28</td>\n",
              "      <td>0</td>\n",
              "      <td>&gt; 2 Years</td>\n",
              "      <td>Yes</td>\n",
              "      <td>38294</td>\n",
              "      <td>26</td>\n",
              "      <td>27</td>\n",
              "      <td>1</td>\n",
              "    </tr>\n",
              "    <tr>\n",
              "      <th>3</th>\n",
              "      <td>4</td>\n",
              "      <td>Male</td>\n",
              "      <td>21</td>\n",
              "      <td>1</td>\n",
              "      <td>11</td>\n",
              "      <td>1</td>\n",
              "      <td>&lt; 1 Year</td>\n",
              "      <td>No</td>\n",
              "      <td>28619</td>\n",
              "      <td>152</td>\n",
              "      <td>203</td>\n",
              "      <td>0</td>\n",
              "    </tr>\n",
              "    <tr>\n",
              "      <th>4</th>\n",
              "      <td>5</td>\n",
              "      <td>Female</td>\n",
              "      <td>29</td>\n",
              "      <td>1</td>\n",
              "      <td>41</td>\n",
              "      <td>1</td>\n",
              "      <td>&lt; 1 Year</td>\n",
              "      <td>No</td>\n",
              "      <td>27496</td>\n",
              "      <td>152</td>\n",
              "      <td>39</td>\n",
              "      <td>0</td>\n",
              "    </tr>\n",
              "  </tbody>\n",
              "</table>\n",
              "</div>"
            ],
            "text/plain": [
              "   id  Gender  Age  ...  Policy_Sales_Channel  Vintage  Response\n",
              "0   1    Male   44  ...                    26      217         1\n",
              "1   2    Male   76  ...                    26      183         0\n",
              "2   3    Male   47  ...                    26       27         1\n",
              "3   4    Male   21  ...                   152      203         0\n",
              "4   5  Female   29  ...                   152       39         0\n",
              "\n",
              "[5 rows x 12 columns]"
            ]
          },
          "metadata": {
            "tags": []
          },
          "execution_count": 3
        }
      ]
    },
    {
      "cell_type": "markdown",
      "metadata": {
        "id": "sysJUcCrD0_k"
      },
      "source": [
        "#Exploratory Data Analysis"
      ]
    },
    {
      "cell_type": "code",
      "metadata": {
        "execution": {
          "iopub.execute_input": "2021-03-31T11:48:42.830572Z",
          "iopub.status.busy": "2021-03-31T11:48:42.829858Z",
          "iopub.status.idle": "2021-03-31T11:48:42.979877Z",
          "shell.execute_reply": "2021-03-31T11:48:42.979221Z"
        },
        "papermill": {
          "duration": 0.207806,
          "end_time": "2021-03-31T11:48:42.980027",
          "exception": false,
          "start_time": "2021-03-31T11:48:42.772221",
          "status": "completed"
        },
        "tags": [],
        "id": "mXiSz4M1gHE8",
        "colab": {
          "base_uri": "https://localhost:8080/"
        },
        "outputId": "62e12ae7-5129-484c-ab12-967940a8af4e"
      },
      "source": [
        "data.info()"
      ],
      "execution_count": null,
      "outputs": [
        {
          "output_type": "stream",
          "text": [
            "<class 'pandas.core.frame.DataFrame'>\n",
            "RangeIndex: 381109 entries, 0 to 381108\n",
            "Data columns (total 12 columns):\n",
            " #   Column                Non-Null Count   Dtype \n",
            "---  ------                --------------   ----- \n",
            " 0   id                    381109 non-null  int64 \n",
            " 1   Gender                381109 non-null  object\n",
            " 2   Age                   381109 non-null  int64 \n",
            " 3   Driving_License       381109 non-null  int64 \n",
            " 4   Region_Code           381109 non-null  int64 \n",
            " 5   Previously_Insured    381109 non-null  int64 \n",
            " 6   Vehicle_Age           381109 non-null  object\n",
            " 7   Vehicle_Damage        381109 non-null  object\n",
            " 8   Annual_Premium        381109 non-null  int64 \n",
            " 9   Policy_Sales_Channel  381109 non-null  int64 \n",
            " 10  Vintage               381109 non-null  int64 \n",
            " 11  Response              381109 non-null  int64 \n",
            "dtypes: int64(9), object(3)\n",
            "memory usage: 34.9+ MB\n"
          ],
          "name": "stdout"
        }
      ]
    },
    {
      "cell_type": "code",
      "metadata": {
        "execution": {
          "iopub.execute_input": "2021-03-31T11:48:43.139509Z",
          "iopub.status.busy": "2021-03-31T11:48:43.110321Z",
          "iopub.status.idle": "2021-03-31T11:48:43.309735Z",
          "shell.execute_reply": "2021-03-31T11:48:43.309120Z"
        },
        "papermill": {
          "duration": 0.278438,
          "end_time": "2021-03-31T11:48:43.309910",
          "exception": false,
          "start_time": "2021-03-31T11:48:43.031472",
          "status": "completed"
        },
        "tags": [],
        "id": "GcvQOyV8gHE8",
        "colab": {
          "base_uri": "https://localhost:8080/",
          "height": 284
        },
        "outputId": "e4db2afe-eca1-4c2c-ef1c-aaed8d3bd67c"
      },
      "source": [
        "data.drop(['id'],inplace=True,axis=1)\n",
        "data.describe()"
      ],
      "execution_count": null,
      "outputs": [
        {
          "output_type": "execute_result",
          "data": {
            "text/html": [
              "<div>\n",
              "<style scoped>\n",
              "    .dataframe tbody tr th:only-of-type {\n",
              "        vertical-align: middle;\n",
              "    }\n",
              "\n",
              "    .dataframe tbody tr th {\n",
              "        vertical-align: top;\n",
              "    }\n",
              "\n",
              "    .dataframe thead th {\n",
              "        text-align: right;\n",
              "    }\n",
              "</style>\n",
              "<table border=\"1\" class=\"dataframe\">\n",
              "  <thead>\n",
              "    <tr style=\"text-align: right;\">\n",
              "      <th></th>\n",
              "      <th>Age</th>\n",
              "      <th>Driving_License</th>\n",
              "      <th>Region_Code</th>\n",
              "      <th>Previously_Insured</th>\n",
              "      <th>Annual_Premium</th>\n",
              "      <th>Policy_Sales_Channel</th>\n",
              "      <th>Vintage</th>\n",
              "      <th>Response</th>\n",
              "    </tr>\n",
              "  </thead>\n",
              "  <tbody>\n",
              "    <tr>\n",
              "      <th>count</th>\n",
              "      <td>381109.000000</td>\n",
              "      <td>381109.000000</td>\n",
              "      <td>381109.000000</td>\n",
              "      <td>381109.000000</td>\n",
              "      <td>381109.000000</td>\n",
              "      <td>381109.000000</td>\n",
              "      <td>381109.000000</td>\n",
              "      <td>381109.000000</td>\n",
              "    </tr>\n",
              "    <tr>\n",
              "      <th>mean</th>\n",
              "      <td>38.822584</td>\n",
              "      <td>0.997869</td>\n",
              "      <td>26.388807</td>\n",
              "      <td>0.458210</td>\n",
              "      <td>30564.389581</td>\n",
              "      <td>112.034295</td>\n",
              "      <td>154.347397</td>\n",
              "      <td>0.122563</td>\n",
              "    </tr>\n",
              "    <tr>\n",
              "      <th>std</th>\n",
              "      <td>15.511611</td>\n",
              "      <td>0.046110</td>\n",
              "      <td>13.229888</td>\n",
              "      <td>0.498251</td>\n",
              "      <td>17213.155057</td>\n",
              "      <td>54.203995</td>\n",
              "      <td>83.671304</td>\n",
              "      <td>0.327936</td>\n",
              "    </tr>\n",
              "    <tr>\n",
              "      <th>min</th>\n",
              "      <td>20.000000</td>\n",
              "      <td>0.000000</td>\n",
              "      <td>0.000000</td>\n",
              "      <td>0.000000</td>\n",
              "      <td>2630.000000</td>\n",
              "      <td>1.000000</td>\n",
              "      <td>10.000000</td>\n",
              "      <td>0.000000</td>\n",
              "    </tr>\n",
              "    <tr>\n",
              "      <th>25%</th>\n",
              "      <td>25.000000</td>\n",
              "      <td>1.000000</td>\n",
              "      <td>15.000000</td>\n",
              "      <td>0.000000</td>\n",
              "      <td>24405.000000</td>\n",
              "      <td>29.000000</td>\n",
              "      <td>82.000000</td>\n",
              "      <td>0.000000</td>\n",
              "    </tr>\n",
              "    <tr>\n",
              "      <th>50%</th>\n",
              "      <td>36.000000</td>\n",
              "      <td>1.000000</td>\n",
              "      <td>28.000000</td>\n",
              "      <td>0.000000</td>\n",
              "      <td>31669.000000</td>\n",
              "      <td>133.000000</td>\n",
              "      <td>154.000000</td>\n",
              "      <td>0.000000</td>\n",
              "    </tr>\n",
              "    <tr>\n",
              "      <th>75%</th>\n",
              "      <td>49.000000</td>\n",
              "      <td>1.000000</td>\n",
              "      <td>35.000000</td>\n",
              "      <td>1.000000</td>\n",
              "      <td>39400.000000</td>\n",
              "      <td>152.000000</td>\n",
              "      <td>227.000000</td>\n",
              "      <td>0.000000</td>\n",
              "    </tr>\n",
              "    <tr>\n",
              "      <th>max</th>\n",
              "      <td>85.000000</td>\n",
              "      <td>1.000000</td>\n",
              "      <td>52.000000</td>\n",
              "      <td>1.000000</td>\n",
              "      <td>540165.000000</td>\n",
              "      <td>163.000000</td>\n",
              "      <td>299.000000</td>\n",
              "      <td>1.000000</td>\n",
              "    </tr>\n",
              "  </tbody>\n",
              "</table>\n",
              "</div>"
            ],
            "text/plain": [
              "                 Age  Driving_License  ...        Vintage       Response\n",
              "count  381109.000000    381109.000000  ...  381109.000000  381109.000000\n",
              "mean       38.822584         0.997869  ...     154.347397       0.122563\n",
              "std        15.511611         0.046110  ...      83.671304       0.327936\n",
              "min        20.000000         0.000000  ...      10.000000       0.000000\n",
              "25%        25.000000         1.000000  ...      82.000000       0.000000\n",
              "50%        36.000000         1.000000  ...     154.000000       0.000000\n",
              "75%        49.000000         1.000000  ...     227.000000       0.000000\n",
              "max        85.000000         1.000000  ...     299.000000       1.000000\n",
              "\n",
              "[8 rows x 8 columns]"
            ]
          },
          "metadata": {
            "tags": []
          },
          "execution_count": 5
        }
      ]
    },
    {
      "cell_type": "code",
      "metadata": {
        "execution": {
          "iopub.execute_input": "2021-03-31T11:48:43.526461Z",
          "iopub.status.busy": "2021-03-31T11:48:43.488084Z",
          "iopub.status.idle": "2021-03-31T11:48:43.871695Z",
          "shell.execute_reply": "2021-03-31T11:48:43.870956Z"
        },
        "papermill": {
          "duration": 0.509881,
          "end_time": "2021-03-31T11:48:43.871849",
          "exception": false,
          "start_time": "2021-03-31T11:48:43.361968",
          "status": "completed"
        },
        "tags": [],
        "id": "XTTCZxTfgHE8",
        "colab": {
          "base_uri": "https://localhost:8080/",
          "height": 182
        },
        "outputId": "b9279ac9-f636-4f6b-9c2d-80b691f673d1"
      },
      "source": [
        "data.describe(include='O')"
      ],
      "execution_count": null,
      "outputs": [
        {
          "output_type": "stream",
          "text": [
            "2021-04-08 19:43:32.221 INFO    numexpr.utils: NumExpr defaulting to 2 threads.\n"
          ],
          "name": "stderr"
        },
        {
          "output_type": "execute_result",
          "data": {
            "text/html": [
              "<div>\n",
              "<style scoped>\n",
              "    .dataframe tbody tr th:only-of-type {\n",
              "        vertical-align: middle;\n",
              "    }\n",
              "\n",
              "    .dataframe tbody tr th {\n",
              "        vertical-align: top;\n",
              "    }\n",
              "\n",
              "    .dataframe thead th {\n",
              "        text-align: right;\n",
              "    }\n",
              "</style>\n",
              "<table border=\"1\" class=\"dataframe\">\n",
              "  <thead>\n",
              "    <tr style=\"text-align: right;\">\n",
              "      <th></th>\n",
              "      <th>Gender</th>\n",
              "      <th>Vehicle_Age</th>\n",
              "      <th>Vehicle_Damage</th>\n",
              "    </tr>\n",
              "  </thead>\n",
              "  <tbody>\n",
              "    <tr>\n",
              "      <th>count</th>\n",
              "      <td>381109</td>\n",
              "      <td>381109</td>\n",
              "      <td>381109</td>\n",
              "    </tr>\n",
              "    <tr>\n",
              "      <th>unique</th>\n",
              "      <td>2</td>\n",
              "      <td>3</td>\n",
              "      <td>2</td>\n",
              "    </tr>\n",
              "    <tr>\n",
              "      <th>top</th>\n",
              "      <td>Male</td>\n",
              "      <td>1-2 Year</td>\n",
              "      <td>Yes</td>\n",
              "    </tr>\n",
              "    <tr>\n",
              "      <th>freq</th>\n",
              "      <td>206089</td>\n",
              "      <td>200316</td>\n",
              "      <td>192413</td>\n",
              "    </tr>\n",
              "  </tbody>\n",
              "</table>\n",
              "</div>"
            ],
            "text/plain": [
              "        Gender Vehicle_Age Vehicle_Damage\n",
              "count   381109      381109         381109\n",
              "unique       2           3              2\n",
              "top       Male    1-2 Year            Yes\n",
              "freq    206089      200316         192413"
            ]
          },
          "metadata": {
            "tags": []
          },
          "execution_count": 6
        }
      ]
    },
    {
      "cell_type": "code",
      "metadata": {
        "execution": {
          "iopub.execute_input": "2021-03-31T11:48:43.985153Z",
          "iopub.status.busy": "2021-03-31T11:48:43.984451Z",
          "iopub.status.idle": "2021-03-31T11:48:43.995503Z",
          "shell.execute_reply": "2021-03-31T11:48:43.994743Z"
        },
        "papermill": {
          "duration": 0.069722,
          "end_time": "2021-03-31T11:48:43.995677",
          "exception": false,
          "start_time": "2021-03-31T11:48:43.925955",
          "status": "completed"
        },
        "tags": [],
        "id": "wiUxI1rFgHE9",
        "colab": {
          "base_uri": "https://localhost:8080/"
        },
        "outputId": "e2ebd314-b5fc-4bb4-af73-e1511c5a93b2"
      },
      "source": [
        "data.Response.value_counts()"
      ],
      "execution_count": null,
      "outputs": [
        {
          "output_type": "execute_result",
          "data": {
            "text/plain": [
              "0    334399\n",
              "1     46710\n",
              "Name: Response, dtype: int64"
            ]
          },
          "metadata": {
            "tags": []
          },
          "execution_count": 7
        }
      ]
    },
    {
      "cell_type": "markdown",
      "metadata": {
        "papermill": {
          "duration": 0.053663,
          "end_time": "2021-03-31T11:48:44.103918",
          "exception": false,
          "start_time": "2021-03-31T11:48:44.050255",
          "status": "completed"
        },
        "tags": [],
        "id": "zh7sy1rwgHE9"
      },
      "source": [
        "<h1 style=\"background-color:blue;font-family:newtimeroman;font-size:400%;text-align:center;border-radius: 15px 50px;\">Univariate Analysis</h1>\n",
        "<a id=2></a>"
      ]
    },
    {
      "cell_type": "markdown",
      "metadata": {
        "papermill": {
          "duration": 0.052749,
          "end_time": "2021-03-31T11:48:44.210189",
          "exception": false,
          "start_time": "2021-03-31T11:48:44.157440",
          "status": "completed"
        },
        "tags": [],
        "id": "G2J_W468gHE9"
      },
      "source": [
        "<h1 style=\"background-color:yellow;font-family:newtimeroman;font-size:300%;text-align:center;border-radius: 15px 50px;\">Gender</h1>\n",
        "<a id=3></a>"
      ]
    },
    {
      "cell_type": "code",
      "metadata": {
        "_kg_hide-input": true,
        "execution": {
          "iopub.execute_input": "2021-03-31T11:48:44.432699Z",
          "iopub.status.busy": "2021-03-31T11:48:44.414715Z",
          "iopub.status.idle": "2021-03-31T11:48:44.577676Z",
          "shell.execute_reply": "2021-03-31T11:48:44.578211Z"
        },
        "papermill": {
          "duration": 0.315857,
          "end_time": "2021-03-31T11:48:44.578389",
          "exception": false,
          "start_time": "2021-03-31T11:48:44.262532",
          "status": "completed"
        },
        "tags": [],
        "id": "2CAAU76ngHE9",
        "colab": {
          "base_uri": "https://localhost:8080/",
          "height": 488
        },
        "outputId": "058e6e12-d9d6-4229-8fe7-6b41d38099d6"
      },
      "source": [
        "plt.figure(figsize=(10,8))\n",
        "plt.pie(data.Gender.value_counts(),explode=[.1,.2],startangle=90,autopct='%.2f%%',colors=['#00FFFF','#7FE817'],radius=4,labels=['Male','Female'])\n",
        "plt.title('Gender',fontdict={'fontsize':22,'fontweight':'bold'})\n",
        "plt.axis('equal')\n",
        "plt.show()"
      ],
      "execution_count": null,
      "outputs": [
        {
          "output_type": "display_data",
          "data": {
            "image/png": "[encoded data removed]",
            "text/plain": [
              "<Figure size 720x576 with 1 Axes>"
            ]
          },
          "metadata": {
            "tags": []
          }
        }
      ]
    },
    {
      "cell_type": "code",
      "metadata": {
        "execution": {
          "iopub.execute_input": "2021-03-31T11:48:44.756422Z",
          "iopub.status.busy": "2021-03-31T11:48:44.733561Z",
          "iopub.status.idle": "2021-03-31T11:48:45.391986Z",
          "shell.execute_reply": "2021-03-31T11:48:45.391361Z"
        },
        "papermill": {
          "duration": 0.758186,
          "end_time": "2021-03-31T11:48:45.392162",
          "exception": false,
          "start_time": "2021-03-31T11:48:44.633976",
          "status": "completed"
        },
        "tags": [],
        "id": "5qki44MLgHE-",
        "colab": {
          "base_uri": "https://localhost:8080/",
          "height": 497
        },
        "outputId": "97f20715-7478-43b0-83d4-43eb90ef5435"
      },
      "source": [
        "plt.figure(figsize=(10,8))\n",
        "sns.countplot(data.Gender,hue=data.Response,palette='PuRd_r')\n",
        "plt.show()"
      ],
      "execution_count": null,
      "outputs": [
        {
          "output_type": "display_data",
          "data": {
            "image/png": "[encoded data removed]",
            "text/plain": [
              "<Figure size 720x576 with 1 Axes>"
            ]
          },
          "metadata": {
            "tags": [],
            "needs_background": "light"
          }
        }
      ]
    },
    {
      "cell_type": "markdown",
      "metadata": {
        "papermill": {
          "duration": 0.055725,
          "end_time": "2021-03-31T11:48:46.191850",
          "exception": false,
          "start_time": "2021-03-31T11:48:46.136125",
          "status": "completed"
        },
        "tags": [],
        "id": "QtJmAfA9gHE-"
      },
      "source": [
        "<h1 style=\"background-color:yellow;font-family:newtimeroman;font-size:300%;text-align:center;border-radius: 15px 50px;\">Vehical Age</h1>\n",
        "<a id=4></a>"
      ]
    },
    {
      "cell_type": "code",
      "metadata": {
        "_kg_hide-input": true,
        "execution": {
          "iopub.execute_input": "2021-03-31T11:48:46.404022Z",
          "iopub.status.busy": "2021-03-31T11:48:46.365486Z",
          "iopub.status.idle": "2021-03-31T11:48:46.526270Z",
          "shell.execute_reply": "2021-03-31T11:48:46.525637Z"
        },
        "papermill": {
          "duration": 0.278741,
          "end_time": "2021-03-31T11:48:46.526434",
          "exception": false,
          "start_time": "2021-03-31T11:48:46.247693",
          "status": "completed"
        },
        "tags": [],
        "id": "tB05QSixgHE-",
        "colab": {
          "base_uri": "https://localhost:8080/",
          "height": 488
        },
        "outputId": "54b61e63-2fe1-4a1b-e447-787771d2341b"
      },
      "source": [
        "plt.figure(figsize=(10,8))\n",
        "plt.pie(data.Vehicle_Age.value_counts(),explode=[.1,.2,.1],startangle=90,autopct='%.2f%%',radius=4,colors=['#3ACCA7','#DD7FEB','#EB8F7F'],labels=['1-2 years','< 1 year','> 2 years'])\n",
        "plt.title('Vehical Age',fontdict={'fontsize':22,'fontweight':'bold'})\n",
        "plt.axis('equal')\n",
        "plt.show()"
      ],
      "execution_count": null,
      "outputs": [
        {
          "output_type": "display_data",
          "data": {
            "image/png": "[encoded data removed]",
            "text/plain": [
              "<Figure size 720x576 with 1 Axes>"
            ]
          },
          "metadata": {
            "tags": []
          }
        }
      ]
    },
    {
      "cell_type": "code",
      "metadata": {
        "execution": {
          "iopub.execute_input": "2021-03-31T11:48:46.708074Z",
          "iopub.status.busy": "2021-03-31T11:48:46.685935Z",
          "iopub.status.idle": "2021-03-31T11:48:47.339355Z",
          "shell.execute_reply": "2021-03-31T11:48:47.338087Z"
        },
        "papermill": {
          "duration": 0.756398,
          "end_time": "2021-03-31T11:48:47.339529",
          "exception": false,
          "start_time": "2021-03-31T11:48:46.583131",
          "status": "completed"
        },
        "tags": [],
        "id": "0VCpIrK2gHE_",
        "colab": {
          "base_uri": "https://localhost:8080/",
          "height": 498
        },
        "outputId": "44750c70-6160-4453-9003-aed7af9c8992"
      },
      "source": [
        "plt.figure(figsize=(10,8))\n",
        "sns.countplot(data.Vehicle_Age,hue=data.Response,palette='BuPu_r')\n",
        "plt.show()"
      ],
      "execution_count": null,
      "outputs": [
        {
          "output_type": "display_data",
          "data": {
            "image/png": "[encoded data removed]",
            "text/plain": [
              "<Figure size 720x576 with 1 Axes>"
            ]
          },
          "metadata": {
            "tags": [],
            "needs_background": "light"
          }
        }
      ]
    },
    {
      "cell_type": "markdown",
      "metadata": {
        "papermill": {
          "duration": 0.060108,
          "end_time": "2021-03-31T11:48:47.920251",
          "exception": false,
          "start_time": "2021-03-31T11:48:47.860143",
          "status": "completed"
        },
        "tags": [],
        "id": "RlrsnbmNgHFA"
      },
      "source": [
        "<h1 style=\"background-color:yellow;font-family:newtimeroman;font-size:300%;text-align:center;border-radius: 15px 50px;\">Vehicle Damage</h1>\n",
        "<a id=5></a>"
      ]
    },
    {
      "cell_type": "code",
      "metadata": {
        "execution": {
          "iopub.execute_input": "2021-03-31T11:48:48.138621Z",
          "iopub.status.busy": "2021-03-31T11:48:48.137921Z",
          "iopub.status.idle": "2021-03-31T11:48:48.148306Z",
          "shell.execute_reply": "2021-03-31T11:48:48.148831Z"
        },
        "papermill": {
          "duration": 0.169909,
          "end_time": "2021-03-31T11:48:48.149045",
          "exception": false,
          "start_time": "2021-03-31T11:48:47.979136",
          "status": "completed"
        },
        "tags": [],
        "id": "nXF1PaNmgHFA",
        "colab": {
          "base_uri": "https://localhost:8080/"
        },
        "outputId": "5cc8743a-5635-4db4-ec72-571aa8ae0570"
      },
      "source": [
        "data.Vehicle_Damage.value_counts()"
      ],
      "execution_count": null,
      "outputs": [
        {
          "output_type": "execute_result",
          "data": {
            "text/plain": [
              "Yes    192413\n",
              "No     188696\n",
              "Name: Vehicle_Damage, dtype: int64"
            ]
          },
          "metadata": {
            "tags": []
          },
          "execution_count": 12
        }
      ]
    },
    {
      "cell_type": "code",
      "metadata": {
        "_kg_hide-input": true,
        "execution": {
          "iopub.execute_input": "2021-03-31T11:48:48.367333Z",
          "iopub.status.busy": "2021-03-31T11:48:48.328441Z",
          "iopub.status.idle": "2021-03-31T11:48:48.471273Z",
          "shell.execute_reply": "2021-03-31T11:48:48.470636Z"
        },
        "papermill": {
          "duration": 0.263285,
          "end_time": "2021-03-31T11:48:48.471453",
          "exception": false,
          "start_time": "2021-03-31T11:48:48.208168",
          "status": "completed"
        },
        "tags": [],
        "id": "uLFU5FJbgHFA",
        "colab": {
          "base_uri": "https://localhost:8080/",
          "height": 488
        },
        "outputId": "3a069c47-e2ca-4ebb-8ce8-39d74fdd6e6c"
      },
      "source": [
        "plt.figure(figsize=(10,8))\n",
        "plt.pie(data.Vehicle_Damage.value_counts(),explode=[.1,.2],startangle=90,autopct='%.2f%%',colors=['#F4F93B','#3BF9F5'],radius=4,labels=['Yes','No'])\n",
        "plt.title('Vehicle Damage',fontdict={'fontsize':22,'fontweight':'bold'})\n",
        "plt.axis('equal')\n",
        "plt.show()"
      ],
      "execution_count": null,
      "outputs": [
        {
          "output_type": "display_data",
          "data": {
            "image/png": "[encoded data removed]",
            "text/plain": [
              "<Figure size 720x576 with 1 Axes>"
            ]
          },
          "metadata": {
            "tags": []
          }
        }
      ]
    },
    {
      "cell_type": "code",
      "metadata": {
        "execution": {
          "iopub.execute_input": "2021-03-31T11:48:48.660167Z",
          "iopub.status.busy": "2021-03-31T11:48:48.637560Z",
          "iopub.status.idle": "2021-03-31T11:48:49.294088Z",
          "shell.execute_reply": "2021-03-31T11:48:49.294791Z"
        },
        "papermill": {
          "duration": 0.762551,
          "end_time": "2021-03-31T11:48:49.295000",
          "exception": false,
          "start_time": "2021-03-31T11:48:48.532449",
          "status": "completed"
        },
        "tags": [],
        "id": "8wA3dtnwgHFA",
        "colab": {
          "base_uri": "https://localhost:8080/",
          "height": 498
        },
        "outputId": "de1b2616-a375-41ff-8e0f-607fab89389e"
      },
      "source": [
        "plt.figure(figsize=(10,8))\n",
        "sns.countplot(data.Vehicle_Damage,hue=data.Response,palette='PuRd')\n",
        "plt.show()"
      ],
      "execution_count": null,
      "outputs": [
        {
          "output_type": "display_data",
          "data": {
            "image/png": "[encoded data removed]",
            "text/plain": [
              "<Figure size 720x576 with 1 Axes>"
            ]
          },
          "metadata": {
            "tags": [],
            "needs_background": "light"
          }
        }
      ]
    },
    {
      "cell_type": "markdown",
      "metadata": {
        "papermill": {
          "duration": 0.079519,
          "end_time": "2021-03-31T11:48:50.068945",
          "exception": false,
          "start_time": "2021-03-31T11:48:49.989426",
          "status": "completed"
        },
        "tags": [],
        "id": "4v5o4dYRgHFB"
      },
      "source": [
        "Here it is quite evident that vehicle damage is highly correlated with, the feature that is that was previously insured?"
      ]
    },
    {
      "cell_type": "markdown",
      "metadata": {
        "papermill": {
          "duration": 0.062274,
          "end_time": "2021-03-31T11:48:50.201783",
          "exception": false,
          "start_time": "2021-03-31T11:48:50.139509",
          "status": "completed"
        },
        "tags": [],
        "id": "IkQRKE_agHFB"
      },
      "source": [
        "\n",
        "<h1 style=\"background-color:yellow;font-family:newtimeroman;font-size:300%;text-align:center;border-radius: 15px 50px;\">Age</h1>\n",
        "<a id=6></a>"
      ]
    },
    {
      "cell_type": "code",
      "metadata": {
        "_kg_hide-input": true,
        "execution": {
          "iopub.execute_input": "2021-03-31T11:48:50.357822Z",
          "iopub.status.busy": "2021-03-31T11:48:50.356694Z",
          "iopub.status.idle": "2021-03-31T11:48:52.836854Z",
          "shell.execute_reply": "2021-03-31T11:48:52.836292Z"
        },
        "papermill": {
          "duration": 2.571927,
          "end_time": "2021-03-31T11:48:52.837067",
          "exception": false,
          "start_time": "2021-03-31T11:48:50.265140",
          "status": "completed"
        },
        "scrolled": true,
        "tags": [],
        "id": "ylOOSQh9gHFB",
        "colab": {
          "base_uri": "https://localhost:8080/",
          "height": 518
        },
        "outputId": "923bebb0-a209-420a-d767-d3f4d3954f57"
      },
      "source": [
        "plt.figure(figsize=(10,8))\n",
        "sns.distplot(data.Age,color='red',label='Age')\n",
        "sns.distplot(data.Age[data.Response==1],color='blue')\n",
        "plt.title('Person interested in buying vehicle insurance Vs Age',fontdict={'fontsize':20,'fontweight':'bold'})\n",
        "plt.show()"
      ],
      "execution_count": null,
      "outputs": [
        {
          "output_type": "display_data",
          "data": {
            "image/png": "[encoded data removed]",
            "text/plain": [
              "<Figure size 720x576 with 1 Axes>"
            ]
          },
          "metadata": {
            "tags": [],
            "needs_background": "light"
          }
        }
      ]
    },
    {
      "cell_type": "markdown",
      "metadata": {
        "papermill": {
          "duration": 0.065609,
          "end_time": "2021-03-31T11:48:52.967039",
          "exception": false,
          "start_time": "2021-03-31T11:48:52.901430",
          "status": "completed"
        },
        "tags": [],
        "id": "wfzFAU0DgHFC"
      },
      "source": [
        "Age group of 40-50 have higher chance of buying the vehicle insurance"
      ]
    },
    {
      "cell_type": "code",
      "metadata": {
        "_kg_hide-input": true,
        "execution": {
          "iopub.execute_input": "2021-03-31T11:48:53.124991Z",
          "iopub.status.busy": "2021-03-31T11:48:53.124282Z",
          "iopub.status.idle": "2021-03-31T11:48:57.068746Z",
          "shell.execute_reply": "2021-03-31T11:48:57.068050Z"
        },
        "papermill": {
          "duration": 4.036539,
          "end_time": "2021-03-31T11:48:57.069058",
          "exception": false,
          "start_time": "2021-03-31T11:48:53.032519",
          "status": "completed"
        },
        "tags": [],
        "id": "DXEHZGfVgHFC",
        "colab": {
          "base_uri": "https://localhost:8080/",
          "height": 518
        },
        "outputId": "457f8b49-4c9a-4f31-c79e-92af6835c827"
      },
      "source": [
        "plt.figure(figsize=(10,8))\n",
        "sns.distplot(data.Age,color='red',label='Age')\n",
        "sns.distplot(data.Age[data.Response==0])\n",
        "plt.title('People not interested in buying vehicle insurance Vs Age',fontdict={'fontsize':20,'fontweight':'bold'})\n",
        "plt.show()"
      ],
      "execution_count": null,
      "outputs": [
        {
          "output_type": "display_data",
          "data": {
            "image/png": "[encoded data removed]",
            "text/plain": [
              "<Figure size 720x576 with 1 Axes>"
            ]
          },
          "metadata": {
            "tags": [],
            "needs_background": "light"
          }
        }
      ]
    },
    {
      "cell_type": "markdown",
      "metadata": {
        "papermill": {
          "duration": 0.065628,
          "end_time": "2021-03-31T11:48:57.776090",
          "exception": false,
          "start_time": "2021-03-31T11:48:57.710462",
          "status": "completed"
        },
        "tags": [],
        "id": "BOMxEi9fgHFC"
      },
      "source": [
        "\n",
        "<h1 style=\"background-color:lightgreen;font-family:newtimeroman;font-size:200%;text-align:center;border-radius: 15px 50px;\">correlation</h1>\n",
        "<a id=8></a>"
      ]
    },
    {
      "cell_type": "code",
      "metadata": {
        "execution": {
          "iopub.execute_input": "2021-03-31T11:48:57.915908Z",
          "iopub.status.busy": "2021-03-31T11:48:57.915103Z",
          "iopub.status.idle": "2021-03-31T11:48:58.100274Z",
          "shell.execute_reply": "2021-03-31T11:48:58.099679Z"
        },
        "papermill": {
          "duration": 0.258513,
          "end_time": "2021-03-31T11:48:58.100432",
          "exception": false,
          "start_time": "2021-03-31T11:48:57.841919",
          "status": "completed"
        },
        "tags": [],
        "id": "8SGee5IggHFC",
        "colab": {
          "base_uri": "https://localhost:8080/",
          "height": 198
        },
        "outputId": "0c5d85f5-5732-4867-8420-2ba80d0b859e"
      },
      "source": [
        "correlation=data.corr()\n",
        "correlation[['Age']].sort_values(by='Age',ascending=False).style.background_gradient(cmap='Blues_r')"
      ],
      "execution_count": null,
      "outputs": [
        {
          "output_type": "execute_result",
          "data": {
            "text/html": [
              "<style  type=\"text/css\" >\n",
              "#T_b88eb77e_98a2_11eb_94c2_0242ac1c0002row0_col0{\n",
              "            background-color:  #f7fbff;\n",
              "            color:  #000000;\n",
              "        }#T_b88eb77e_98a2_11eb_94c2_0242ac1c0002row1_col0{\n",
              "            background-color:  #56a0ce;\n",
              "            color:  #000000;\n",
              "        }#T_b88eb77e_98a2_11eb_94c2_0242ac1c0002row2_col0{\n",
              "            background-color:  #4d99ca;\n",
              "            color:  #000000;\n",
              "        }#T_b88eb77e_98a2_11eb_94c2_0242ac1c0002row3_col0{\n",
              "            background-color:  #4896c8;\n",
              "            color:  #000000;\n",
              "        }#T_b88eb77e_98a2_11eb_94c2_0242ac1c0002row4_col0{\n",
              "            background-color:  #3f8fc5;\n",
              "            color:  #000000;\n",
              "        }#T_b88eb77e_98a2_11eb_94c2_0242ac1c0002row5_col0{\n",
              "            background-color:  #3282be;\n",
              "            color:  #000000;\n",
              "        }#T_b88eb77e_98a2_11eb_94c2_0242ac1c0002row6_col0{\n",
              "            background-color:  #1865ac;\n",
              "            color:  #f1f1f1;\n",
              "        }#T_b88eb77e_98a2_11eb_94c2_0242ac1c0002row7_col0{\n",
              "            background-color:  #08306b;\n",
              "            color:  #f1f1f1;\n",
              "        }</style><table id=\"T_b88eb77e_98a2_11eb_94c2_0242ac1c0002\" ><thead>    <tr>        <th class=\"blank level0\" ></th>        <th class=\"col_heading level0 col0\" >Age</th>    </tr></thead><tbody>\n",
              "                <tr>\n",
              "                        <th id=\"T_b88eb77e_98a2_11eb_94c2_0242ac1c0002level0_row0\" class=\"row_heading level0 row0\" >Age</th>\n",
              "                        <td id=\"T_b88eb77e_98a2_11eb_94c2_0242ac1c0002row0_col0\" class=\"data row0 col0\" >1.000000</td>\n",
              "            </tr>\n",
              "            <tr>\n",
              "                        <th id=\"T_b88eb77e_98a2_11eb_94c2_0242ac1c0002level0_row1\" class=\"row_heading level0 row1\" >Response</th>\n",
              "                        <td id=\"T_b88eb77e_98a2_11eb_94c2_0242ac1c0002row1_col0\" class=\"data row1 col0\" >0.111147</td>\n",
              "            </tr>\n",
              "            <tr>\n",
              "                        <th id=\"T_b88eb77e_98a2_11eb_94c2_0242ac1c0002level0_row2\" class=\"row_heading level0 row2\" >Annual_Premium</th>\n",
              "                        <td id=\"T_b88eb77e_98a2_11eb_94c2_0242ac1c0002row2_col0\" class=\"data row2 col0\" >0.067507</td>\n",
              "            </tr>\n",
              "            <tr>\n",
              "                        <th id=\"T_b88eb77e_98a2_11eb_94c2_0242ac1c0002level0_row3\" class=\"row_heading level0 row3\" >Region_Code</th>\n",
              "                        <td id=\"T_b88eb77e_98a2_11eb_94c2_0242ac1c0002row3_col0\" class=\"data row3 col0\" >0.042574</td>\n",
              "            </tr>\n",
              "            <tr>\n",
              "                        <th id=\"T_b88eb77e_98a2_11eb_94c2_0242ac1c0002level0_row4\" class=\"row_heading level0 row4\" >Vintage</th>\n",
              "                        <td id=\"T_b88eb77e_98a2_11eb_94c2_0242ac1c0002row4_col0\" class=\"data row4 col0\" >-0.001264</td>\n",
              "            </tr>\n",
              "            <tr>\n",
              "                        <th id=\"T_b88eb77e_98a2_11eb_94c2_0242ac1c0002level0_row5\" class=\"row_heading level0 row5\" >Driving_License</th>\n",
              "                        <td id=\"T_b88eb77e_98a2_11eb_94c2_0242ac1c0002row5_col0\" class=\"data row5 col0\" >-0.079782</td>\n",
              "            </tr>\n",
              "            <tr>\n",
              "                        <th id=\"T_b88eb77e_98a2_11eb_94c2_0242ac1c0002level0_row6\" class=\"row_heading level0 row6\" >Previously_Insured</th>\n",
              "                        <td id=\"T_b88eb77e_98a2_11eb_94c2_0242ac1c0002row6_col0\" class=\"data row6 col0\" >-0.254682</td>\n",
              "            </tr>\n",
              "            <tr>\n",
              "                        <th id=\"T_b88eb77e_98a2_11eb_94c2_0242ac1c0002level0_row7\" class=\"row_heading level0 row7\" >Policy_Sales_Channel</th>\n",
              "                        <td id=\"T_b88eb77e_98a2_11eb_94c2_0242ac1c0002row7_col0\" class=\"data row7 col0\" >-0.577826</td>\n",
              "            </tr>\n",
              "    </tbody></table>"
            ],
            "text/plain": [
              "<pandas.io.formats.style.Styler at 0x7f77d38c0390>"
            ]
          },
          "metadata": {
            "tags": []
          },
          "execution_count": 17
        }
      ]
    },
    {
      "cell_type": "markdown",
      "metadata": {
        "papermill": {
          "duration": 0.066334,
          "end_time": "2021-03-31T11:48:58.234341",
          "exception": false,
          "start_time": "2021-03-31T11:48:58.168007",
          "status": "completed"
        },
        "tags": [],
        "id": "UwL3ojiJgHFD"
      },
      "source": [
        "\n",
        "<h1 style=\"background-color:yellow;font-family:newtimeroman;font-size:300%;text-align:center;border-radius: 15px 50px;\">Annual premium</h1>\n",
        "<a id=9></a>"
      ]
    },
    {
      "cell_type": "code",
      "metadata": {
        "_kg_hide-input": true,
        "execution": {
          "iopub.execute_input": "2021-03-31T11:48:58.391514Z",
          "iopub.status.busy": "2021-03-31T11:48:58.388959Z",
          "iopub.status.idle": "2021-03-31T11:49:00.459960Z",
          "shell.execute_reply": "2021-03-31T11:49:00.459106Z"
        },
        "papermill": {
          "duration": 2.159342,
          "end_time": "2021-03-31T11:49:00.460150",
          "exception": false,
          "start_time": "2021-03-31T11:48:58.300808",
          "status": "completed"
        },
        "tags": [],
        "id": "XRWF5hG-gHFD",
        "colab": {
          "base_uri": "https://localhost:8080/",
          "height": 519
        },
        "outputId": "aeade43c-3f68-409a-8c27-59bdbd8f5f99"
      },
      "source": [
        "plt.figure(figsize=(10,8))\n",
        "sns.distplot(data.Annual_Premium,color='red',label='Annual Premium')\n",
        "sns.distplot(data.Annual_Premium[data.Response==1],color='blue')\n",
        "plt.title('Health insurance annual premium of people who are interested in buying vehicle insurance',fontdict={'fontsize':20,'fontweight':'bold'})\n",
        "plt.show()"
      ],
      "execution_count": null,
      "outputs": [
        {
          "output_type": "display_data",
          "data": {
            "image/png": "[encoded data removed]",
            "text/plain": [
              "<Figure size 720x576 with 1 Axes>"
            ]
          },
          "metadata": {
            "tags": [],
            "needs_background": "light"
          }
        }
      ]
    },
    {
      "cell_type": "code",
      "metadata": {
        "_kg_hide-input": true,
        "execution": {
          "iopub.execute_input": "2021-03-31T11:49:00.626540Z",
          "iopub.status.busy": "2021-03-31T11:49:00.618959Z",
          "iopub.status.idle": "2021-03-31T11:49:04.080455Z",
          "shell.execute_reply": "2021-03-31T11:49:04.079822Z"
        },
        "papermill": {
          "duration": 3.552247,
          "end_time": "2021-03-31T11:49:04.080650",
          "exception": false,
          "start_time": "2021-03-31T11:49:00.528403",
          "status": "completed"
        },
        "tags": [],
        "id": "0R7GMJNvgHFD",
        "colab": {
          "base_uri": "https://localhost:8080/",
          "height": 519
        },
        "outputId": "483b9e38-510a-4957-9aa3-9d5e577be110"
      },
      "source": [
        "plt.figure(figsize=(10,8))\n",
        "sns.distplot(data.Annual_Premium,color='red',label='Annual Premium')\n",
        "sns.distplot(data.Annual_Premium[data.Response==0],color='green')\n",
        "plt.title('Health insurance annual premium of people who are NOT interested in buying vehicle insurance',fontdict={'fontsize':20,'fontweight':'bold'})\n",
        "plt.show()"
      ],
      "execution_count": null,
      "outputs": [
        {
          "output_type": "display_data",
          "data": {
            "image/png": "[encoded data removed]",
            "text/plain": [
              "<Figure size 720x576 with 1 Axes>"
            ]
          },
          "metadata": {
            "tags": [],
            "needs_background": "light"
          }
        }
      ]
    },
    {
      "cell_type": "markdown",
      "metadata": {
        "papermill": {
          "duration": 0.069518,
          "end_time": "2021-03-31T11:49:04.836806",
          "exception": false,
          "start_time": "2021-03-31T11:49:04.767288",
          "status": "completed"
        },
        "tags": [],
        "id": "EfttuCs8gHFE"
      },
      "source": [
        "\n",
        "<h1 style=\"background-color:lightgreen;font-family:newtimeroman;font-size:200%;text-align:center;border-radius: 15px 50px;\">correlation</h1>\n",
        "<a id=11></a>"
      ]
    },
    {
      "cell_type": "code",
      "metadata": {
        "execution": {
          "iopub.execute_input": "2021-03-31T11:49:04.995610Z",
          "iopub.status.busy": "2021-03-31T11:49:04.991341Z",
          "iopub.status.idle": "2021-03-31T11:49:05.002153Z",
          "shell.execute_reply": "2021-03-31T11:49:05.001620Z"
        },
        "papermill": {
          "duration": 0.097035,
          "end_time": "2021-03-31T11:49:05.002318",
          "exception": false,
          "start_time": "2021-03-31T11:49:04.905283",
          "status": "completed"
        },
        "tags": [],
        "id": "i9EiXob-gHFE",
        "colab": {
          "base_uri": "https://localhost:8080/",
          "height": 198
        },
        "outputId": "db0903c8-1b7d-48be-8462-fdfb9356c2cd"
      },
      "source": [
        "\n",
        "correlation[['Annual_Premium']].sort_values(by='Annual_Premium',ascending=False).style.background_gradient(cmap='Blues')"
      ],
      "execution_count": null,
      "outputs": [
        {
          "output_type": "execute_result",
          "data": {
            "text/html": [
              "<style  type=\"text/css\" >\n",
              "#T_bc4073bc_98a2_11eb_94c2_0242ac1c0002row0_col0{\n",
              "            background-color:  #08306b;\n",
              "            color:  #f1f1f1;\n",
              "        }#T_bc4073bc_98a2_11eb_94c2_0242ac1c0002row1_col0{\n",
              "            background-color:  #d7e6f5;\n",
              "            color:  #000000;\n",
              "        }#T_bc4073bc_98a2_11eb_94c2_0242ac1c0002row2_col0{\n",
              "            background-color:  #dfebf7;\n",
              "            color:  #000000;\n",
              "        }#T_bc4073bc_98a2_11eb_94c2_0242ac1c0002row3_col0{\n",
              "            background-color:  #e2edf8;\n",
              "            color:  #000000;\n",
              "        }#T_bc4073bc_98a2_11eb_94c2_0242ac1c0002row4_col0{\n",
              "            background-color:  #e3eef9;\n",
              "            color:  #000000;\n",
              "        }#T_bc4073bc_98a2_11eb_94c2_0242ac1c0002row5_col0,#T_bc4073bc_98a2_11eb_94c2_0242ac1c0002row6_col0{\n",
              "            background-color:  #e5eff9;\n",
              "            color:  #000000;\n",
              "        }#T_bc4073bc_98a2_11eb_94c2_0242ac1c0002row7_col0{\n",
              "            background-color:  #f7fbff;\n",
              "            color:  #000000;\n",
              "        }</style><table id=\"T_bc4073bc_98a2_11eb_94c2_0242ac1c0002\" ><thead>    <tr>        <th class=\"blank level0\" ></th>        <th class=\"col_heading level0 col0\" >Annual_Premium</th>    </tr></thead><tbody>\n",
              "                <tr>\n",
              "                        <th id=\"T_bc4073bc_98a2_11eb_94c2_0242ac1c0002level0_row0\" class=\"row_heading level0 row0\" >Annual_Premium</th>\n",
              "                        <td id=\"T_bc4073bc_98a2_11eb_94c2_0242ac1c0002row0_col0\" class=\"data row0 col0\" >1.000000</td>\n",
              "            </tr>\n",
              "            <tr>\n",
              "                        <th id=\"T_bc4073bc_98a2_11eb_94c2_0242ac1c0002level0_row1\" class=\"row_heading level0 row1\" >Age</th>\n",
              "                        <td id=\"T_bc4073bc_98a2_11eb_94c2_0242ac1c0002row1_col0\" class=\"data row1 col0\" >0.067507</td>\n",
              "            </tr>\n",
              "            <tr>\n",
              "                        <th id=\"T_bc4073bc_98a2_11eb_94c2_0242ac1c0002level0_row2\" class=\"row_heading level0 row2\" >Response</th>\n",
              "                        <td id=\"T_bc4073bc_98a2_11eb_94c2_0242ac1c0002row2_col0\" class=\"data row2 col0\" >0.022575</td>\n",
              "            </tr>\n",
              "            <tr>\n",
              "                        <th id=\"T_bc4073bc_98a2_11eb_94c2_0242ac1c0002level0_row3\" class=\"row_heading level0 row3\" >Previously_Insured</th>\n",
              "                        <td id=\"T_bc4073bc_98a2_11eb_94c2_0242ac1c0002row3_col0\" class=\"data row3 col0\" >0.004269</td>\n",
              "            </tr>\n",
              "            <tr>\n",
              "                        <th id=\"T_bc4073bc_98a2_11eb_94c2_0242ac1c0002level0_row4\" class=\"row_heading level0 row4\" >Vintage</th>\n",
              "                        <td id=\"T_bc4073bc_98a2_11eb_94c2_0242ac1c0002row4_col0\" class=\"data row4 col0\" >-0.000608</td>\n",
              "            </tr>\n",
              "            <tr>\n",
              "                        <th id=\"T_bc4073bc_98a2_11eb_94c2_0242ac1c0002level0_row5\" class=\"row_heading level0 row5\" >Region_Code</th>\n",
              "                        <td id=\"T_bc4073bc_98a2_11eb_94c2_0242ac1c0002row5_col0\" class=\"data row5 col0\" >-0.010588</td>\n",
              "            </tr>\n",
              "            <tr>\n",
              "                        <th id=\"T_bc4073bc_98a2_11eb_94c2_0242ac1c0002level0_row6\" class=\"row_heading level0 row6\" >Driving_License</th>\n",
              "                        <td id=\"T_bc4073bc_98a2_11eb_94c2_0242ac1c0002row6_col0\" class=\"data row6 col0\" >-0.011906</td>\n",
              "            </tr>\n",
              "            <tr>\n",
              "                        <th id=\"T_bc4073bc_98a2_11eb_94c2_0242ac1c0002level0_row7\" class=\"row_heading level0 row7\" >Policy_Sales_Channel</th>\n",
              "                        <td id=\"T_bc4073bc_98a2_11eb_94c2_0242ac1c0002row7_col0\" class=\"data row7 col0\" >-0.113247</td>\n",
              "            </tr>\n",
              "    </tbody></table>"
            ],
            "text/plain": [
              "<pandas.io.formats.style.Styler at 0x7f77d3acb8d0>"
            ]
          },
          "metadata": {
            "tags": []
          },
          "execution_count": 20
        }
      ]
    },
    {
      "cell_type": "markdown",
      "metadata": {
        "papermill": {
          "duration": 0.072007,
          "end_time": "2021-03-31T11:49:05.144188",
          "exception": false,
          "start_time": "2021-03-31T11:49:05.072181",
          "status": "completed"
        },
        "tags": [],
        "id": "ndkBYF6QgHFE"
      },
      "source": [
        "<h1 style=\"background-color:blue;font-family:newtimeroman;font-size:400%;text-align:center;border-radius: 15px 50px;\">Multivariate Analysis</h1>\n",
        "<a id=24></a>"
      ]
    },
    {
      "cell_type": "code",
      "metadata": {
        "execution": {
          "iopub.execute_input": "2021-03-31T11:49:05.313904Z",
          "iopub.status.busy": "2021-03-31T11:49:05.308743Z",
          "iopub.status.idle": "2021-03-31T11:49:05.679244Z",
          "shell.execute_reply": "2021-03-31T11:49:05.678496Z"
        },
        "papermill": {
          "duration": 0.464255,
          "end_time": "2021-03-31T11:49:05.679417",
          "exception": false,
          "start_time": "2021-03-31T11:49:05.215162",
          "status": "completed"
        },
        "tags": [],
        "id": "wEoV_rBYgHFE",
        "colab": {
          "base_uri": "https://localhost:8080/",
          "height": 583
        },
        "outputId": "71364896-2f2f-4b6f-db99-488c65253554"
      },
      "source": [
        "plt.figure(figsize=(12,8))\n",
        "sns.heatmap(correlation,cmap='cool_r')\n",
        "plt.show()"
      ],
      "execution_count": null,
      "outputs": [
        {
          "output_type": "display_data",
          "data": {
            "image/png": "[encoded data removed]",
            "text/plain": [
              "<Figure size 864x576 with 2 Axes>"
            ]
          },
          "metadata": {
            "tags": [],
            "needs_background": "light"
          }
        }
      ]
    },
    {
      "cell_type": "code",
      "metadata": {
        "colab": {
          "base_uri": "https://localhost:8080/",
          "height": 215
        },
        "id": "W1dVax6UZNtT",
        "outputId": "90752e0a-cbab-44f6-e1da-259d8e44638a"
      },
      "source": [
        "data.head()"
      ],
      "execution_count": null,
      "outputs": [
        {
          "output_type": "execute_result",
          "data": {
            "text/html": [
              "<div>\n",
              "<style scoped>\n",
              "    .dataframe tbody tr th:only-of-type {\n",
              "        vertical-align: middle;\n",
              "    }\n",
              "\n",
              "    .dataframe tbody tr th {\n",
              "        vertical-align: top;\n",
              "    }\n",
              "\n",
              "    .dataframe thead th {\n",
              "        text-align: right;\n",
              "    }\n",
              "</style>\n",
              "<table border=\"1\" class=\"dataframe\">\n",
              "  <thead>\n",
              "    <tr style=\"text-align: right;\">\n",
              "      <th></th>\n",
              "      <th>Gender</th>\n",
              "      <th>Age</th>\n",
              "      <th>Driving_License</th>\n",
              "      <th>Region_Code</th>\n",
              "      <th>Previously_Insured</th>\n",
              "      <th>Vehicle_Age</th>\n",
              "      <th>Vehicle_Damage</th>\n",
              "      <th>Annual_Premium</th>\n",
              "      <th>Policy_Sales_Channel</th>\n",
              "      <th>Vintage</th>\n",
              "      <th>Response</th>\n",
              "    </tr>\n",
              "  </thead>\n",
              "  <tbody>\n",
              "    <tr>\n",
              "      <th>0</th>\n",
              "      <td>Male</td>\n",
              "      <td>44</td>\n",
              "      <td>1</td>\n",
              "      <td>28</td>\n",
              "      <td>0</td>\n",
              "      <td>&gt; 2 Years</td>\n",
              "      <td>Yes</td>\n",
              "      <td>40454</td>\n",
              "      <td>26</td>\n",
              "      <td>217</td>\n",
              "      <td>1</td>\n",
              "    </tr>\n",
              "    <tr>\n",
              "      <th>1</th>\n",
              "      <td>Male</td>\n",
              "      <td>76</td>\n",
              "      <td>1</td>\n",
              "      <td>3</td>\n",
              "      <td>0</td>\n",
              "      <td>1-2 Year</td>\n",
              "      <td>No</td>\n",
              "      <td>33536</td>\n",
              "      <td>26</td>\n",
              "      <td>183</td>\n",
              "      <td>0</td>\n",
              "    </tr>\n",
              "    <tr>\n",
              "      <th>2</th>\n",
              "      <td>Male</td>\n",
              "      <td>47</td>\n",
              "      <td>1</td>\n",
              "      <td>28</td>\n",
              "      <td>0</td>\n",
              "      <td>&gt; 2 Years</td>\n",
              "      <td>Yes</td>\n",
              "      <td>38294</td>\n",
              "      <td>26</td>\n",
              "      <td>27</td>\n",
              "      <td>1</td>\n",
              "    </tr>\n",
              "    <tr>\n",
              "      <th>3</th>\n",
              "      <td>Male</td>\n",
              "      <td>21</td>\n",
              "      <td>1</td>\n",
              "      <td>11</td>\n",
              "      <td>1</td>\n",
              "      <td>&lt; 1 Year</td>\n",
              "      <td>No</td>\n",
              "      <td>28619</td>\n",
              "      <td>152</td>\n",
              "      <td>203</td>\n",
              "      <td>0</td>\n",
              "    </tr>\n",
              "    <tr>\n",
              "      <th>4</th>\n",
              "      <td>Female</td>\n",
              "      <td>29</td>\n",
              "      <td>1</td>\n",
              "      <td>41</td>\n",
              "      <td>1</td>\n",
              "      <td>&lt; 1 Year</td>\n",
              "      <td>No</td>\n",
              "      <td>27496</td>\n",
              "      <td>152</td>\n",
              "      <td>39</td>\n",
              "      <td>0</td>\n",
              "    </tr>\n",
              "  </tbody>\n",
              "</table>\n",
              "</div>"
            ],
            "text/plain": [
              "   Gender  Age  Driving_License  ...  Policy_Sales_Channel  Vintage Response\n",
              "0    Male   44                1  ...                    26      217        1\n",
              "1    Male   76                1  ...                    26      183        0\n",
              "2    Male   47                1  ...                    26       27        1\n",
              "3    Male   21                1  ...                   152      203        0\n",
              "4  Female   29                1  ...                   152       39        0\n",
              "\n",
              "[5 rows x 11 columns]"
            ]
          },
          "metadata": {
            "tags": []
          },
          "execution_count": 22
        }
      ]
    },
    {
      "cell_type": "code",
      "metadata": {
        "id": "9nFEG692Hjm6"
      },
      "source": [
        "#dropping Response Variable\n",
        "data.drop(['Response'],inplace=True,axis=1)"
      ],
      "execution_count": null,
      "outputs": []
    },
    {
      "cell_type": "code",
      "metadata": {
        "id": "eDKnT9jO5Dle"
      },
      "source": [
        "#Defining Preprocessing function\n",
        "def preprocessor(x):\n",
        "  encode = [\"Gender\",'Vehicle_Age','Vehicle_Damage','Driving_License']\n",
        "\n",
        "  for col in encode:\n",
        "      dummy = pd.get_dummies(x[col], prefix=col)\n",
        "      x = pd.concat([x,dummy], axis=1)\n",
        "      del x[col]\n",
        "\n",
        "  return x"
      ],
      "execution_count": null,
      "outputs": []
    },
    {
      "cell_type": "code",
      "metadata": {
        "id": "9WjXDutPJNLF"
      },
      "source": [
        "data = preprocessor(data)"
      ],
      "execution_count": null,
      "outputs": []
    },
    {
      "cell_type": "code",
      "metadata": {
        "colab": {
          "base_uri": "https://localhost:8080/",
          "height": 143
        },
        "id": "AHZ2E1E74y9J",
        "outputId": "1a0f524d-0162-4ca3-d4f2-b2bd639786bb"
      },
      "source": [
        "data.head(2)"
      ],
      "execution_count": null,
      "outputs": [
        {
          "output_type": "execute_result",
          "data": {
            "text/html": [
              "<div>\n",
              "<style scoped>\n",
              "    .dataframe tbody tr th:only-of-type {\n",
              "        vertical-align: middle;\n",
              "    }\n",
              "\n",
              "    .dataframe tbody tr th {\n",
              "        vertical-align: top;\n",
              "    }\n",
              "\n",
              "    .dataframe thead th {\n",
              "        text-align: right;\n",
              "    }\n",
              "</style>\n",
              "<table border=\"1\" class=\"dataframe\">\n",
              "  <thead>\n",
              "    <tr style=\"text-align: right;\">\n",
              "      <th></th>\n",
              "      <th>Age</th>\n",
              "      <th>Region_Code</th>\n",
              "      <th>Previously_Insured</th>\n",
              "      <th>Annual_Premium</th>\n",
              "      <th>Policy_Sales_Channel</th>\n",
              "      <th>Vintage</th>\n",
              "      <th>Gender_Female</th>\n",
              "      <th>Gender_Male</th>\n",
              "      <th>Vehicle_Age_1-2 Year</th>\n",
              "      <th>Vehicle_Age_&lt; 1 Year</th>\n",
              "      <th>Vehicle_Age_&gt; 2 Years</th>\n",
              "      <th>Vehicle_Damage_No</th>\n",
              "      <th>Vehicle_Damage_Yes</th>\n",
              "      <th>Driving_License_0</th>\n",
              "      <th>Driving_License_1</th>\n",
              "    </tr>\n",
              "  </thead>\n",
              "  <tbody>\n",
              "    <tr>\n",
              "      <th>0</th>\n",
              "      <td>44</td>\n",
              "      <td>28</td>\n",
              "      <td>0</td>\n",
              "      <td>40454</td>\n",
              "      <td>26</td>\n",
              "      <td>217</td>\n",
              "      <td>0</td>\n",
              "      <td>1</td>\n",
              "      <td>0</td>\n",
              "      <td>0</td>\n",
              "      <td>1</td>\n",
              "      <td>0</td>\n",
              "      <td>1</td>\n",
              "      <td>0</td>\n",
              "      <td>1</td>\n",
              "    </tr>\n",
              "    <tr>\n",
              "      <th>1</th>\n",
              "      <td>76</td>\n",
              "      <td>3</td>\n",
              "      <td>0</td>\n",
              "      <td>33536</td>\n",
              "      <td>26</td>\n",
              "      <td>183</td>\n",
              "      <td>0</td>\n",
              "      <td>1</td>\n",
              "      <td>1</td>\n",
              "      <td>0</td>\n",
              "      <td>0</td>\n",
              "      <td>1</td>\n",
              "      <td>0</td>\n",
              "      <td>0</td>\n",
              "      <td>1</td>\n",
              "    </tr>\n",
              "  </tbody>\n",
              "</table>\n",
              "</div>"
            ],
            "text/plain": [
              "   Age  Region_Code  ...  Driving_License_0  Driving_License_1\n",
              "0   44           28  ...                  0                  1\n",
              "1   76            3  ...                  0                  1\n",
              "\n",
              "[2 rows x 15 columns]"
            ]
          },
          "metadata": {
            "tags": []
          },
          "execution_count": 26
        }
      ]
    },
    {
      "cell_type": "code",
      "metadata": {
        "colab": {
          "base_uri": "https://localhost:8080/"
        },
        "id": "sSoNM1Fx73Qp",
        "outputId": "deef1c96-04fa-46e7-9601-30496fc56761"
      },
      "source": [
        "data.shape"
      ],
      "execution_count": null,
      "outputs": [
        {
          "output_type": "execute_result",
          "data": {
            "text/plain": [
              "(381109, 15)"
            ]
          },
          "metadata": {
            "tags": []
          },
          "execution_count": 27
        }
      ]
    },
    {
      "cell_type": "code",
      "metadata": {
        "colab": {
          "base_uri": "https://localhost:8080/",
          "height": 143
        },
        "id": "S5UfsBGIe11p",
        "outputId": "69a8c5ee-e50e-45d5-def3-953cbedc46e3"
      },
      "source": [
        "data.head(2)"
      ],
      "execution_count": null,
      "outputs": [
        {
          "output_type": "execute_result",
          "data": {
            "text/html": [
              "<div>\n",
              "<style scoped>\n",
              "    .dataframe tbody tr th:only-of-type {\n",
              "        vertical-align: middle;\n",
              "    }\n",
              "\n",
              "    .dataframe tbody tr th {\n",
              "        vertical-align: top;\n",
              "    }\n",
              "\n",
              "    .dataframe thead th {\n",
              "        text-align: right;\n",
              "    }\n",
              "</style>\n",
              "<table border=\"1\" class=\"dataframe\">\n",
              "  <thead>\n",
              "    <tr style=\"text-align: right;\">\n",
              "      <th></th>\n",
              "      <th>Age</th>\n",
              "      <th>Region_Code</th>\n",
              "      <th>Previously_Insured</th>\n",
              "      <th>Annual_Premium</th>\n",
              "      <th>Policy_Sales_Channel</th>\n",
              "      <th>Vintage</th>\n",
              "      <th>Gender_Female</th>\n",
              "      <th>Gender_Male</th>\n",
              "      <th>Vehicle_Age_1-2 Year</th>\n",
              "      <th>Vehicle_Age_&lt; 1 Year</th>\n",
              "      <th>Vehicle_Age_&gt; 2 Years</th>\n",
              "      <th>Vehicle_Damage_No</th>\n",
              "      <th>Vehicle_Damage_Yes</th>\n",
              "      <th>Driving_License_0</th>\n",
              "      <th>Driving_License_1</th>\n",
              "    </tr>\n",
              "  </thead>\n",
              "  <tbody>\n",
              "    <tr>\n",
              "      <th>0</th>\n",
              "      <td>44</td>\n",
              "      <td>28</td>\n",
              "      <td>0</td>\n",
              "      <td>40454</td>\n",
              "      <td>26</td>\n",
              "      <td>217</td>\n",
              "      <td>0</td>\n",
              "      <td>1</td>\n",
              "      <td>0</td>\n",
              "      <td>0</td>\n",
              "      <td>1</td>\n",
              "      <td>0</td>\n",
              "      <td>1</td>\n",
              "      <td>0</td>\n",
              "      <td>1</td>\n",
              "    </tr>\n",
              "    <tr>\n",
              "      <th>1</th>\n",
              "      <td>76</td>\n",
              "      <td>3</td>\n",
              "      <td>0</td>\n",
              "      <td>33536</td>\n",
              "      <td>26</td>\n",
              "      <td>183</td>\n",
              "      <td>0</td>\n",
              "      <td>1</td>\n",
              "      <td>1</td>\n",
              "      <td>0</td>\n",
              "      <td>0</td>\n",
              "      <td>1</td>\n",
              "      <td>0</td>\n",
              "      <td>0</td>\n",
              "      <td>1</td>\n",
              "    </tr>\n",
              "  </tbody>\n",
              "</table>\n",
              "</div>"
            ],
            "text/plain": [
              "   Age  Region_Code  ...  Driving_License_0  Driving_License_1\n",
              "0   44           28  ...                  0                  1\n",
              "1   76            3  ...                  0                  1\n",
              "\n",
              "[2 rows x 15 columns]"
            ]
          },
          "metadata": {
            "tags": []
          },
          "execution_count": 28
        }
      ]
    },
    {
      "cell_type": "code",
      "metadata": {
        "colab": {
          "base_uri": "https://localhost:8080/"
        },
        "id": "9-2LoGFQhfyF",
        "outputId": "4f91f5c0-fb69-45f5-f4e1-ca603b6efbb9"
      },
      "source": [
        "#Checking null values in df\n",
        "print(df.iloc[:,-1].isna().any())\n",
        "print(df.iloc[:,-1].isnull().any())"
      ],
      "execution_count": null,
      "outputs": [
        {
          "output_type": "stream",
          "text": [
            "False\n",
            "False\n"
          ],
          "name": "stdout"
        }
      ]
    },
    {
      "cell_type": "markdown",
      "metadata": {
        "id": "TYdkaANW9WgI"
      },
      "source": [
        "#SMOTE"
      ]
    },
    {
      "cell_type": "markdown",
      "metadata": {
        "id": "QI81XVEW9ZH9"
      },
      "source": [
        "Since we have such an imbalanced dataset, we need to balance it out using either oversampling or undersampling. But, undersampling in not recommeded in this case because of huge difference in total counts and it would mean that we're losing important data.\n",
        "\n",
        "So, we have used smote to oversample positive class."
      ]
    },
    {
      "cell_type": "code",
      "metadata": {
        "id": "1CPlAtgeh5vS"
      },
      "source": [
        "oversample=SMOTE()\n",
        "X,y=oversample.fit_resample(data,df.iloc[:,-1])"
      ],
      "execution_count": null,
      "outputs": []
    },
    {
      "cell_type": "code",
      "metadata": {
        "id": "WLt94Tduh5ri"
      },
      "source": [
        "resampled_df=pd.DataFrame(X, columns=data.columns)"
      ],
      "execution_count": null,
      "outputs": []
    },
    {
      "cell_type": "code",
      "metadata": {
        "colab": {
          "base_uri": "https://localhost:8080/",
          "height": 232
        },
        "id": "j8-MyXiA-ViL",
        "outputId": "3e3d66b0-b5a6-4ed1-f243-2f3eaa008434"
      },
      "source": [
        "resampled_df.head()"
      ],
      "execution_count": null,
      "outputs": [
        {
          "output_type": "execute_result",
          "data": {
            "text/html": [
              "<div>\n",
              "<style scoped>\n",
              "    .dataframe tbody tr th:only-of-type {\n",
              "        vertical-align: middle;\n",
              "    }\n",
              "\n",
              "    .dataframe tbody tr th {\n",
              "        vertical-align: top;\n",
              "    }\n",
              "\n",
              "    .dataframe thead th {\n",
              "        text-align: right;\n",
              "    }\n",
              "</style>\n",
              "<table border=\"1\" class=\"dataframe\">\n",
              "  <thead>\n",
              "    <tr style=\"text-align: right;\">\n",
              "      <th></th>\n",
              "      <th>Age</th>\n",
              "      <th>Region_Code</th>\n",
              "      <th>Previously_Insured</th>\n",
              "      <th>Annual_Premium</th>\n",
              "      <th>Policy_Sales_Channel</th>\n",
              "      <th>Vintage</th>\n",
              "      <th>Gender_Female</th>\n",
              "      <th>Gender_Male</th>\n",
              "      <th>Vehicle_Age_1-2 Year</th>\n",
              "      <th>Vehicle_Age_&lt; 1 Year</th>\n",
              "      <th>Vehicle_Age_&gt; 2 Years</th>\n",
              "      <th>Vehicle_Damage_No</th>\n",
              "      <th>Vehicle_Damage_Yes</th>\n",
              "      <th>Driving_License_0</th>\n",
              "      <th>Driving_License_1</th>\n",
              "    </tr>\n",
              "  </thead>\n",
              "  <tbody>\n",
              "    <tr>\n",
              "      <th>0</th>\n",
              "      <td>44</td>\n",
              "      <td>28</td>\n",
              "      <td>0</td>\n",
              "      <td>40454</td>\n",
              "      <td>26</td>\n",
              "      <td>217</td>\n",
              "      <td>0</td>\n",
              "      <td>1</td>\n",
              "      <td>0</td>\n",
              "      <td>0</td>\n",
              "      <td>1</td>\n",
              "      <td>0</td>\n",
              "      <td>1</td>\n",
              "      <td>0</td>\n",
              "      <td>1</td>\n",
              "    </tr>\n",
              "    <tr>\n",
              "      <th>1</th>\n",
              "      <td>76</td>\n",
              "      <td>3</td>\n",
              "      <td>0</td>\n",
              "      <td>33536</td>\n",
              "      <td>26</td>\n",
              "      <td>183</td>\n",
              "      <td>0</td>\n",
              "      <td>1</td>\n",
              "      <td>1</td>\n",
              "      <td>0</td>\n",
              "      <td>0</td>\n",
              "      <td>1</td>\n",
              "      <td>0</td>\n",
              "      <td>0</td>\n",
              "      <td>1</td>\n",
              "    </tr>\n",
              "    <tr>\n",
              "      <th>2</th>\n",
              "      <td>47</td>\n",
              "      <td>28</td>\n",
              "      <td>0</td>\n",
              "      <td>38294</td>\n",
              "      <td>26</td>\n",
              "      <td>27</td>\n",
              "      <td>0</td>\n",
              "      <td>1</td>\n",
              "      <td>0</td>\n",
              "      <td>0</td>\n",
              "      <td>1</td>\n",
              "      <td>0</td>\n",
              "      <td>1</td>\n",
              "      <td>0</td>\n",
              "      <td>1</td>\n",
              "    </tr>\n",
              "    <tr>\n",
              "      <th>3</th>\n",
              "      <td>21</td>\n",
              "      <td>11</td>\n",
              "      <td>1</td>\n",
              "      <td>28619</td>\n",
              "      <td>152</td>\n",
              "      <td>203</td>\n",
              "      <td>0</td>\n",
              "      <td>1</td>\n",
              "      <td>0</td>\n",
              "      <td>1</td>\n",
              "      <td>0</td>\n",
              "      <td>1</td>\n",
              "      <td>0</td>\n",
              "      <td>0</td>\n",
              "      <td>1</td>\n",
              "    </tr>\n",
              "    <tr>\n",
              "      <th>4</th>\n",
              "      <td>29</td>\n",
              "      <td>41</td>\n",
              "      <td>1</td>\n",
              "      <td>27496</td>\n",
              "      <td>152</td>\n",
              "      <td>39</td>\n",
              "      <td>1</td>\n",
              "      <td>0</td>\n",
              "      <td>0</td>\n",
              "      <td>1</td>\n",
              "      <td>0</td>\n",
              "      <td>1</td>\n",
              "      <td>0</td>\n",
              "      <td>0</td>\n",
              "      <td>1</td>\n",
              "    </tr>\n",
              "  </tbody>\n",
              "</table>\n",
              "</div>"
            ],
            "text/plain": [
              "   Age  Region_Code  ...  Driving_License_0  Driving_License_1\n",
              "0   44           28  ...                  0                  1\n",
              "1   76            3  ...                  0                  1\n",
              "2   47           28  ...                  0                  1\n",
              "3   21           11  ...                  0                  1\n",
              "4   29           41  ...                  0                  1\n",
              "\n",
              "[5 rows x 15 columns]"
            ]
          },
          "metadata": {
            "tags": []
          },
          "execution_count": 32
        }
      ]
    },
    {
      "cell_type": "markdown",
      "metadata": {
        "id": "zvibeXgi9-VF"
      },
      "source": [
        "#Scaling numeric features"
      ]
    },
    {
      "cell_type": "code",
      "metadata": {
        "colab": {
          "base_uri": "https://localhost:8080/",
          "height": 143
        },
        "id": "kCRtaQkd5hx-",
        "outputId": "5ec304cd-d6ac-4e33-b3b8-5e3ed834b765"
      },
      "source": [
        "from sklearn.preprocessing import StandardScaler\n",
        "\n",
        "numer = ['Age','Annual_Premium','Policy_Sales_Channel','Vintage','Region_Code']\n",
        "scaler =StandardScaler()\n",
        "resampled_df[numer]=scaler.fit_transform(resampled_df[numer])\n",
        "resampled_df.head(2)"
      ],
      "execution_count": null,
      "outputs": [
        {
          "output_type": "execute_result",
          "data": {
            "text/html": [
              "<div>\n",
              "<style scoped>\n",
              "    .dataframe tbody tr th:only-of-type {\n",
              "        vertical-align: middle;\n",
              "    }\n",
              "\n",
              "    .dataframe tbody tr th {\n",
              "        vertical-align: top;\n",
              "    }\n",
              "\n",
              "    .dataframe thead th {\n",
              "        text-align: right;\n",
              "    }\n",
              "</style>\n",
              "<table border=\"1\" class=\"dataframe\">\n",
              "  <thead>\n",
              "    <tr style=\"text-align: right;\">\n",
              "      <th></th>\n",
              "      <th>Age</th>\n",
              "      <th>Region_Code</th>\n",
              "      <th>Previously_Insured</th>\n",
              "      <th>Annual_Premium</th>\n",
              "      <th>Policy_Sales_Channel</th>\n",
              "      <th>Vintage</th>\n",
              "      <th>Gender_Female</th>\n",
              "      <th>Gender_Male</th>\n",
              "      <th>Vehicle_Age_1-2 Year</th>\n",
              "      <th>Vehicle_Age_&lt; 1 Year</th>\n",
              "      <th>Vehicle_Age_&gt; 2 Years</th>\n",
              "      <th>Vehicle_Damage_No</th>\n",
              "      <th>Vehicle_Damage_Yes</th>\n",
              "      <th>Driving_License_0</th>\n",
              "      <th>Driving_License_1</th>\n",
              "    </tr>\n",
              "  </thead>\n",
              "  <tbody>\n",
              "    <tr>\n",
              "      <th>0</th>\n",
              "      <td>0.248872</td>\n",
              "      <td>0.127442</td>\n",
              "      <td>0</td>\n",
              "      <td>0.529237</td>\n",
              "      <td>-1.385674</td>\n",
              "      <td>0.755892</td>\n",
              "      <td>0</td>\n",
              "      <td>1</td>\n",
              "      <td>0</td>\n",
              "      <td>0</td>\n",
              "      <td>1</td>\n",
              "      <td>0</td>\n",
              "      <td>1</td>\n",
              "      <td>0</td>\n",
              "      <td>1</td>\n",
              "    </tr>\n",
              "    <tr>\n",
              "      <th>1</th>\n",
              "      <td>2.571490</td>\n",
              "      <td>-1.948337</td>\n",
              "      <td>0</td>\n",
              "      <td>0.141314</td>\n",
              "      <td>-1.385674</td>\n",
              "      <td>0.347132</td>\n",
              "      <td>0</td>\n",
              "      <td>1</td>\n",
              "      <td>1</td>\n",
              "      <td>0</td>\n",
              "      <td>0</td>\n",
              "      <td>1</td>\n",
              "      <td>0</td>\n",
              "      <td>0</td>\n",
              "      <td>1</td>\n",
              "    </tr>\n",
              "  </tbody>\n",
              "</table>\n",
              "</div>"
            ],
            "text/plain": [
              "        Age  Region_Code  ...  Driving_License_0  Driving_License_1\n",
              "0  0.248872     0.127442  ...                  0                  1\n",
              "1  2.571490    -1.948337  ...                  0                  1\n",
              "\n",
              "[2 rows x 15 columns]"
            ]
          },
          "metadata": {
            "tags": []
          },
          "execution_count": 33
        }
      ]
    },
    {
      "cell_type": "markdown",
      "metadata": {
        "id": "uHfaSTBljPbC"
      },
      "source": [
        "#Splitting test train data"
      ]
    },
    {
      "cell_type": "code",
      "metadata": {
        "id": "2xlzReR5h5mO"
      },
      "source": [
        "train_x,test_x,train_y,test_y=train_test_split(np.array(resampled_df),y,test_size=.1,random_state=42)"
      ],
      "execution_count": null,
      "outputs": []
    },
    {
      "cell_type": "code",
      "metadata": {
        "colab": {
          "base_uri": "https://localhost:8080/"
        },
        "id": "se2nl-CEDmhu",
        "outputId": "f4c192a0-978a-41a2-9b57-6a1f607ec175"
      },
      "source": [
        "train_x"
      ],
      "execution_count": null,
      "outputs": [
        {
          "output_type": "execute_result",
          "data": {
            "text/plain": [
              "array([[ 0.75694482,  1.12381603,  0.        , ...,  1.        ,\n",
              "         0.        ,  1.        ],\n",
              "       [ 1.41018102,  0.12744194,  0.        , ...,  1.        ,\n",
              "         0.        ,  1.        ],\n",
              "       [ 0.75694482, -0.37074511,  0.        , ...,  1.        ,\n",
              "         0.        ,  1.        ],\n",
              "       ...,\n",
              "       [ 1.11985382,  0.70866016,  0.        , ...,  1.        ,\n",
              "         0.        ,  1.        ],\n",
              "       [-1.3479274 , -2.0313686 ,  0.        , ...,  1.        ,\n",
              "         0.        ,  1.        ],\n",
              "       [-0.98501839,  0.87472251,  0.        , ...,  1.        ,\n",
              "         0.        ,  1.        ]])"
            ]
          },
          "metadata": {
            "tags": []
          },
          "execution_count": 35
        }
      ]
    },
    {
      "cell_type": "code",
      "metadata": {
        "colab": {
          "base_uri": "https://localhost:8080/"
        },
        "id": "SSz_atym-IzK",
        "outputId": "9a55e7c9-95a5-480b-9ea2-b389165de028"
      },
      "source": [
        "train_y"
      ],
      "execution_count": null,
      "outputs": [
        {
          "output_type": "execute_result",
          "data": {
            "text/plain": [
              "array([1, 1, 1, ..., 0, 0, 1])"
            ]
          },
          "metadata": {
            "tags": []
          },
          "execution_count": 36
        }
      ]
    },
    {
      "cell_type": "markdown",
      "metadata": {
        "id": "P5gIzcRE-Kp7"
      },
      "source": [
        "#Model Building and evaluation"
      ]
    },
    {
      "cell_type": "markdown",
      "metadata": {
        "papermill": {
          "duration": 0.071122,
          "end_time": "2021-03-31T11:49:08.260490",
          "exception": false,
          "start_time": "2021-03-31T11:49:08.189368",
          "status": "completed"
        },
        "tags": [],
        "id": "otSNDYfRgHFF"
      },
      "source": [
        "<h1 style=\"background-color:yellow;font-family:newtimeroman;font-size:300%;text-align:center;border-radius: 15px 50px;\">DecisionTreeClassifier</h1>\n",
        "<a id=15></a>"
      ]
    },
    {
      "cell_type": "code",
      "metadata": {
        "execution": {
          "iopub.execute_input": "2021-03-31T11:49:08.412867Z",
          "iopub.status.busy": "2021-03-31T11:49:08.411804Z",
          "iopub.status.idle": "2021-03-31T11:49:42.429493Z",
          "shell.execute_reply": "2021-03-31T11:49:42.430140Z"
        },
        "papermill": {
          "duration": 34.098401,
          "end_time": "2021-03-31T11:49:42.430416",
          "exception": false,
          "start_time": "2021-03-31T11:49:08.332015",
          "status": "completed"
        },
        "tags": [],
        "id": "4s7DrdmNgHFF",
        "colab": {
          "base_uri": "https://localhost:8080/"
        },
        "outputId": "ff03449e-2bb5-4182-8158-603aa5c5bf1a"
      },
      "source": [
        "from sklearn.tree import DecisionTreeClassifier\n",
        "model1=DecisionTreeClassifier(random_state=42,max_depth=8)\n",
        "grid1=GridSearchCV(model1,param_grid={'max_depth':range(5,8)})\n",
        "grid1.fit(train_x,train_y)"
      ],
      "execution_count": null,
      "outputs": [
        {
          "output_type": "execute_result",
          "data": {
            "text/plain": [
              "GridSearchCV(cv=None, error_score=nan,\n",
              "             estimator=DecisionTreeClassifier(ccp_alpha=0.0, class_weight=None,\n",
              "                                              criterion='gini', max_depth=8,\n",
              "                                              max_features=None,\n",
              "                                              max_leaf_nodes=None,\n",
              "                                              min_impurity_decrease=0.0,\n",
              "                                              min_impurity_split=None,\n",
              "                                              min_samples_leaf=1,\n",
              "                                              min_samples_split=2,\n",
              "                                              min_weight_fraction_leaf=0.0,\n",
              "                                              presort='deprecated',\n",
              "                                              random_state=42,\n",
              "                                              splitter='best'),\n",
              "             iid='deprecated', n_jobs=None,\n",
              "             param_grid={'max_depth': range(5, 8)}, pre_dispatch='2*n_jobs',\n",
              "             refit=True, return_train_score=False, scoring=None, verbose=0)"
            ]
          },
          "metadata": {
            "tags": []
          },
          "execution_count": 37
        }
      ]
    },
    {
      "cell_type": "code",
      "metadata": {
        "execution": {
          "iopub.execute_input": "2021-03-31T11:49:42.580177Z",
          "iopub.status.busy": "2021-03-31T11:49:42.579477Z",
          "iopub.status.idle": "2021-03-31T11:49:42.583368Z",
          "shell.execute_reply": "2021-03-31T11:49:42.583892Z"
        },
        "papermill": {
          "duration": 0.08127,
          "end_time": "2021-03-31T11:49:42.584074",
          "exception": false,
          "start_time": "2021-03-31T11:49:42.502804",
          "status": "completed"
        },
        "tags": [],
        "id": "Gg0JmatXgHFG",
        "colab": {
          "base_uri": "https://localhost:8080/"
        },
        "outputId": "178cac00-b64d-4223-aabf-2eb3d7a813bb"
      },
      "source": [
        "grid1.best_params_"
      ],
      "execution_count": null,
      "outputs": [
        {
          "output_type": "execute_result",
          "data": {
            "text/plain": [
              "{'max_depth': 7}"
            ]
          },
          "metadata": {
            "tags": []
          },
          "execution_count": 38
        }
      ]
    },
    {
      "cell_type": "code",
      "metadata": {
        "execution": {
          "iopub.execute_input": "2021-03-31T11:49:42.733835Z",
          "iopub.status.busy": "2021-03-31T11:49:42.733071Z",
          "iopub.status.idle": "2021-03-31T11:49:45.704141Z",
          "shell.execute_reply": "2021-03-31T11:49:45.703514Z"
        },
        "papermill": {
          "duration": 3.047353,
          "end_time": "2021-03-31T11:49:45.704307",
          "exception": false,
          "start_time": "2021-03-31T11:49:42.656954",
          "status": "completed"
        },
        "tags": [],
        "id": "gyjOGvjFgHFG",
        "colab": {
          "base_uri": "https://localhost:8080/"
        },
        "outputId": "a7c627e2-e17f-40d1-a3bf-88586ac96566"
      },
      "source": [
        "classifier1=DecisionTreeClassifier(random_state=42,max_depth=7)\n",
        "classifier1.fit(train_x,train_y)"
      ],
      "execution_count": null,
      "outputs": [
        {
          "output_type": "execute_result",
          "data": {
            "text/plain": [
              "DecisionTreeClassifier(ccp_alpha=0.0, class_weight=None, criterion='gini',\n",
              "                       max_depth=7, max_features=None, max_leaf_nodes=None,\n",
              "                       min_impurity_decrease=0.0, min_impurity_split=None,\n",
              "                       min_samples_leaf=1, min_samples_split=2,\n",
              "                       min_weight_fraction_leaf=0.0, presort='deprecated',\n",
              "                       random_state=42, splitter='best')"
            ]
          },
          "metadata": {
            "tags": []
          },
          "execution_count": 39
        }
      ]
    },
    {
      "cell_type": "code",
      "metadata": {
        "_kg_hide-input": true,
        "execution": {
          "iopub.execute_input": "2021-03-31T11:49:45.866497Z",
          "iopub.status.busy": "2021-03-31T11:49:45.865847Z",
          "iopub.status.idle": "2021-03-31T11:49:46.261501Z",
          "shell.execute_reply": "2021-03-31T11:49:46.260843Z"
        },
        "papermill": {
          "duration": 0.480838,
          "end_time": "2021-03-31T11:49:46.261678",
          "exception": false,
          "start_time": "2021-03-31T11:49:45.780840",
          "status": "completed"
        },
        "tags": [],
        "id": "2NfSfCrPgHFG",
        "colab": {
          "base_uri": "https://localhost:8080/",
          "height": 394
        },
        "outputId": "f25e1260-3b9b-477c-ee75-14befce9b696"
      },
      "source": [
        "pred_test_y=classifier1.predict(test_x)\n",
        "pred_train_y=classifier1.predict(train_x)\n",
        "cm1=confusion_matrix(test_y,pred_test_y)\n",
        "plt.figure(figsize=(10,6))\n",
        "sns.heatmap(cm1,annot=True,cmap='gnuplot_r')\n",
        "plt.title('Confusion metrices of test data',fontdict={'fontsize':18,'fontweight':'bold'})\n",
        "plt.show()"
      ],
      "execution_count": null,
      "outputs": [
        {
          "output_type": "display_data",
          "data": {
            "image/png": "[encoded data removed]",
            "text/plain": [
              "<Figure size 720x432 with 2 Axes>"
            ]
          },
          "metadata": {
            "tags": [],
            "needs_background": "light"
          }
        }
      ]
    },
    {
      "cell_type": "code",
      "metadata": {
        "execution": {
          "iopub.execute_input": "2021-03-31T11:49:46.421247Z",
          "iopub.status.busy": "2021-03-31T11:49:46.420430Z",
          "iopub.status.idle": "2021-03-31T11:49:47.678475Z",
          "shell.execute_reply": "2021-03-31T11:49:47.677817Z"
        },
        "papermill": {
          "duration": 1.340421,
          "end_time": "2021-03-31T11:49:47.678672",
          "exception": false,
          "start_time": "2021-03-31T11:49:46.338251",
          "status": "completed"
        },
        "tags": [],
        "id": "DeznsJsZgHFG",
        "colab": {
          "base_uri": "https://localhost:8080/"
        },
        "outputId": "9908e1b7-8551-4e49-f251-3826ff8d424a"
      },
      "source": [
        "print('Classification report of train data \\n',classification_report(train_y,pred_train_y))"
      ],
      "execution_count": null,
      "outputs": [
        {
          "output_type": "stream",
          "text": [
            "Classification report of train data \n",
            "               precision    recall  f1-score   support\n",
            "\n",
            "           0       0.90      0.79      0.84    301112\n",
            "           1       0.81      0.91      0.86    300806\n",
            "\n",
            "    accuracy                           0.85    601918\n",
            "   macro avg       0.85      0.85      0.85    601918\n",
            "weighted avg       0.85      0.85      0.85    601918\n",
            "\n"
          ],
          "name": "stdout"
        }
      ]
    },
    {
      "cell_type": "code",
      "metadata": {
        "execution": {
          "iopub.execute_input": "2021-03-31T11:49:47.844136Z",
          "iopub.status.busy": "2021-03-31T11:49:47.843343Z",
          "iopub.status.idle": "2021-03-31T11:49:47.968960Z",
          "shell.execute_reply": "2021-03-31T11:49:47.968132Z"
        },
        "papermill": {
          "duration": 0.21292,
          "end_time": "2021-03-31T11:49:47.969139",
          "exception": false,
          "start_time": "2021-03-31T11:49:47.756219",
          "status": "completed"
        },
        "tags": [],
        "id": "BV8pqNTwgHFG",
        "colab": {
          "base_uri": "https://localhost:8080/"
        },
        "outputId": "d5b8f07b-2ae6-4aba-fe0f-b0d18780cc63"
      },
      "source": [
        "print('Classification report of test data \\n',classification_report(test_y,pred_test_y))"
      ],
      "execution_count": null,
      "outputs": [
        {
          "output_type": "stream",
          "text": [
            "Classification report of test data \n",
            "               precision    recall  f1-score   support\n",
            "\n",
            "           0       0.90      0.79      0.84     33287\n",
            "           1       0.82      0.91      0.86     33593\n",
            "\n",
            "    accuracy                           0.85     66880\n",
            "   macro avg       0.86      0.85      0.85     66880\n",
            "weighted avg       0.86      0.85      0.85     66880\n",
            "\n"
          ],
          "name": "stdout"
        }
      ]
    },
    {
      "cell_type": "markdown",
      "metadata": {
        "papermill": {
          "duration": 0.078605,
          "end_time": "2021-03-31T11:49:48.125242",
          "exception": false,
          "start_time": "2021-03-31T11:49:48.046637",
          "status": "completed"
        },
        "tags": [],
        "id": "AdA1t894gHFG"
      },
      "source": [
        "<h1 style=\"background-color:yellow;font-family:newtimeroman;font-size:300%;text-align:center;border-radius: 15px 50px;\">RandomForestClassifier</h1>\n",
        "<a id=16></a>"
      ]
    },
    {
      "cell_type": "code",
      "metadata": {
        "execution": {
          "iopub.execute_input": "2021-03-31T11:49:48.290468Z",
          "iopub.status.busy": "2021-03-31T11:49:48.289540Z",
          "iopub.status.idle": "2021-03-31T11:51:00.950689Z",
          "shell.execute_reply": "2021-03-31T11:51:00.951250Z"
        },
        "papermill": {
          "duration": 72.747412,
          "end_time": "2021-03-31T11:51:00.951497",
          "exception": false,
          "start_time": "2021-03-31T11:49:48.204085",
          "status": "completed"
        },
        "tags": [],
        "id": "Ib4IFluagHFH",
        "colab": {
          "base_uri": "https://localhost:8080/"
        },
        "outputId": "b9129ced-8ecc-4bb6-a5ce-e98dcb8ecdb8"
      },
      "source": [
        "classifier2=RandomForestClassifier(random_state=42,max_depth=6)\n",
        "classifier2.fit(train_x,train_y)"
      ],
      "execution_count": null,
      "outputs": [
        {
          "output_type": "execute_result",
          "data": {
            "text/plain": [
              "RandomForestClassifier(bootstrap=True, ccp_alpha=0.0, class_weight=None,\n",
              "                       criterion='gini', max_depth=6, max_features='auto',\n",
              "                       max_leaf_nodes=None, max_samples=None,\n",
              "                       min_impurity_decrease=0.0, min_impurity_split=None,\n",
              "                       min_samples_leaf=1, min_samples_split=2,\n",
              "                       min_weight_fraction_leaf=0.0, n_estimators=100,\n",
              "                       n_jobs=None, oob_score=False, random_state=42, verbose=0,\n",
              "                       warm_start=False)"
            ]
          },
          "metadata": {
            "tags": []
          },
          "execution_count": 43
        }
      ]
    },
    {
      "cell_type": "code",
      "metadata": {
        "_kg_hide-input": true,
        "execution": {
          "iopub.execute_input": "2021-03-31T11:51:01.113972Z",
          "iopub.status.busy": "2021-03-31T11:51:01.113252Z",
          "iopub.status.idle": "2021-03-31T11:51:06.264020Z",
          "shell.execute_reply": "2021-03-31T11:51:06.263249Z"
        },
        "papermill": {
          "duration": 5.236171,
          "end_time": "2021-03-31T11:51:06.264204",
          "exception": false,
          "start_time": "2021-03-31T11:51:01.028033",
          "status": "completed"
        },
        "tags": [],
        "id": "s_sP6zG9gHFH",
        "colab": {
          "base_uri": "https://localhost:8080/",
          "height": 394
        },
        "outputId": "5375598c-70b0-44f0-e83d-fb2538d9dd3e"
      },
      "source": [
        "pred_test_y=classifier2.predict(test_x)\n",
        "pred_train_y=classifier2.predict(train_x)\n",
        "cm2=confusion_matrix(test_y,pred_test_y)\n",
        "plt.figure(figsize=(10,6))\n",
        "sns.heatmap(cm2,annot=True,cmap='gnuplot')\n",
        "plt.title('Confusion metrices of test data',fontdict={'fontsize':18,'fontweight':'bold'})\n",
        "plt.show()"
      ],
      "execution_count": null,
      "outputs": [
        {
          "output_type": "display_data",
          "data": {
            "image/png": "[encoded data removed]",
            "text/plain": [
              "<Figure size 720x432 with 2 Axes>"
            ]
          },
          "metadata": {
            "tags": [],
            "needs_background": "light"
          }
        }
      ]
    },
    {
      "cell_type": "code",
      "metadata": {
        "execution": {
          "iopub.execute_input": "2021-03-31T11:51:06.431086Z",
          "iopub.status.busy": "2021-03-31T11:51:06.430000Z",
          "iopub.status.idle": "2021-03-31T11:51:07.667253Z",
          "shell.execute_reply": "2021-03-31T11:51:07.667866Z"
        },
        "papermill": {
          "duration": 1.324233,
          "end_time": "2021-03-31T11:51:07.668087",
          "exception": false,
          "start_time": "2021-03-31T11:51:06.343854",
          "status": "completed"
        },
        "tags": [],
        "id": "FOOJUvJVgHFH",
        "colab": {
          "base_uri": "https://localhost:8080/"
        },
        "outputId": "430046f1-02d6-4b14-f553-93d3e7529b4c"
      },
      "source": [
        "print('Classification report of train data \\n',classification_report(train_y,pred_train_y))"
      ],
      "execution_count": null,
      "outputs": [
        {
          "output_type": "stream",
          "text": [
            "Classification report of train data \n",
            "               precision    recall  f1-score   support\n",
            "\n",
            "           0       0.95      0.70      0.81    301112\n",
            "           1       0.76      0.97      0.85    300806\n",
            "\n",
            "    accuracy                           0.83    601918\n",
            "   macro avg       0.86      0.83      0.83    601918\n",
            "weighted avg       0.86      0.83      0.83    601918\n",
            "\n"
          ],
          "name": "stdout"
        }
      ]
    },
    {
      "cell_type": "code",
      "metadata": {
        "execution": {
          "iopub.execute_input": "2021-03-31T11:51:07.828492Z",
          "iopub.status.busy": "2021-03-31T11:51:07.827808Z",
          "iopub.status.idle": "2021-03-31T11:51:07.951017Z",
          "shell.execute_reply": "2021-03-31T11:51:07.950171Z"
        },
        "papermill": {
          "duration": 0.205844,
          "end_time": "2021-03-31T11:51:07.951196",
          "exception": false,
          "start_time": "2021-03-31T11:51:07.745352",
          "status": "completed"
        },
        "tags": [],
        "id": "Y-GJEPYQgHFH",
        "colab": {
          "base_uri": "https://localhost:8080/"
        },
        "outputId": "a638bca9-6e0b-4847-ca72-49086790adac"
      },
      "source": [
        "print('Classification report of train data \\n',classification_report(test_y,pred_test_y))"
      ],
      "execution_count": null,
      "outputs": [
        {
          "output_type": "stream",
          "text": [
            "Classification report of train data \n",
            "               precision    recall  f1-score   support\n",
            "\n",
            "           0       0.95      0.70      0.81     33287\n",
            "           1       0.77      0.97      0.85     33593\n",
            "\n",
            "    accuracy                           0.83     66880\n",
            "   macro avg       0.86      0.83      0.83     66880\n",
            "weighted avg       0.86      0.83      0.83     66880\n",
            "\n"
          ],
          "name": "stdout"
        }
      ]
    },
    {
      "cell_type": "markdown",
      "metadata": {
        "papermill": {
          "duration": 0.078515,
          "end_time": "2021-03-31T11:51:08.110930",
          "exception": false,
          "start_time": "2021-03-31T11:51:08.032415",
          "status": "completed"
        },
        "tags": [],
        "id": "3z2x5dPPgHFH"
      },
      "source": [
        "<h1 style=\"background-color:yellow;font-family:newtimeroman;font-size:300%;text-align:center;border-radius: 15px 50px;\">Logistic Regression</h1>\n",
        "<a id=17></a>"
      ]
    },
    {
      "cell_type": "code",
      "metadata": {
        "execution": {
          "iopub.execute_input": "2021-03-31T11:51:08.278321Z",
          "iopub.status.busy": "2021-03-31T11:51:08.275827Z",
          "iopub.status.idle": "2021-03-31T11:51:28.209987Z",
          "shell.execute_reply": "2021-03-31T11:51:28.209269Z"
        },
        "papermill": {
          "duration": 20.021135,
          "end_time": "2021-03-31T11:51:28.210171",
          "exception": false,
          "start_time": "2021-03-31T11:51:08.189036",
          "status": "completed"
        },
        "tags": [],
        "id": "8g6P2b4OgHFH",
        "colab": {
          "base_uri": "https://localhost:8080/"
        },
        "outputId": "5e0fb8ac-3a40-4cd5-ab0c-a3148e10c8db"
      },
      "source": [
        "classifier3=LogisticRegression(tol=0.01,max_iter=1000)\n",
        "classifier3.fit(train_x,train_y)"
      ],
      "execution_count": null,
      "outputs": [
        {
          "output_type": "execute_result",
          "data": {
            "text/plain": [
              "LogisticRegression(C=1.0, class_weight=None, dual=False, fit_intercept=True,\n",
              "                   intercept_scaling=1, l1_ratio=None, max_iter=1000,\n",
              "                   multi_class='auto', n_jobs=None, penalty='l2',\n",
              "                   random_state=None, solver='lbfgs', tol=0.01, verbose=0,\n",
              "                   warm_start=False)"
            ]
          },
          "metadata": {
            "tags": []
          },
          "execution_count": 47
        }
      ]
    },
    {
      "cell_type": "code",
      "metadata": {
        "_kg_hide-input": true,
        "execution": {
          "iopub.execute_input": "2021-03-31T11:51:28.380116Z",
          "iopub.status.busy": "2021-03-31T11:51:28.378453Z",
          "iopub.status.idle": "2021-03-31T11:51:28.719981Z",
          "shell.execute_reply": "2021-03-31T11:51:28.719218Z"
        },
        "papermill": {
          "duration": 0.429827,
          "end_time": "2021-03-31T11:51:28.720162",
          "exception": false,
          "start_time": "2021-03-31T11:51:28.290335",
          "status": "completed"
        },
        "tags": [],
        "id": "ReoyQjP3gHFI",
        "colab": {
          "base_uri": "https://localhost:8080/",
          "height": 394
        },
        "outputId": "9f629ffe-b70d-45ac-f782-98445f90bc46"
      },
      "source": [
        "pred_test_y=classifier3.predict(test_x)\n",
        "pred_train_y=classifier3.predict(train_x)\n",
        "cm2=confusion_matrix(test_y,pred_test_y)\n",
        "plt.figure(figsize=(10,6))\n",
        "sns.heatmap(cm2,annot=True,cmap='gnuplot')\n",
        "plt.title('Confusion metrices of test data',fontdict={'fontsize':18,'fontweight':'bold'})\n",
        "plt.show()"
      ],
      "execution_count": null,
      "outputs": [
        {
          "output_type": "display_data",
          "data": {
            "image/png": "[encoded data removed]",
            "text/plain": [
              "<Figure size 720x432 with 2 Axes>"
            ]
          },
          "metadata": {
            "tags": [],
            "needs_background": "light"
          }
        }
      ]
    },
    {
      "cell_type": "code",
      "metadata": {
        "execution": {
          "iopub.execute_input": "2021-03-31T11:51:28.888016Z",
          "iopub.status.busy": "2021-03-31T11:51:28.887235Z",
          "iopub.status.idle": "2021-03-31T11:51:30.075348Z",
          "shell.execute_reply": "2021-03-31T11:51:30.074657Z"
        },
        "papermill": {
          "duration": 1.275257,
          "end_time": "2021-03-31T11:51:30.075506",
          "exception": false,
          "start_time": "2021-03-31T11:51:28.800249",
          "status": "completed"
        },
        "tags": [],
        "id": "OagYXaq6gHFI",
        "colab": {
          "base_uri": "https://localhost:8080/"
        },
        "outputId": "4d9a0369-7a90-4209-f1d1-01af35ab38b5"
      },
      "source": [
        "print('Classification report of train data \\n',classification_report(train_y,pred_train_y))"
      ],
      "execution_count": null,
      "outputs": [
        {
          "output_type": "stream",
          "text": [
            "Classification report of train data \n",
            "               precision    recall  f1-score   support\n",
            "\n",
            "           0       0.88      0.80      0.84    301112\n",
            "           1       0.82      0.90      0.85    300806\n",
            "\n",
            "    accuracy                           0.85    601918\n",
            "   macro avg       0.85      0.85      0.85    601918\n",
            "weighted avg       0.85      0.85      0.85    601918\n",
            "\n"
          ],
          "name": "stdout"
        }
      ]
    },
    {
      "cell_type": "code",
      "metadata": {
        "execution": {
          "iopub.execute_input": "2021-03-31T11:51:30.238614Z",
          "iopub.status.busy": "2021-03-31T11:51:30.237894Z",
          "iopub.status.idle": "2021-03-31T11:51:30.358128Z",
          "shell.execute_reply": "2021-03-31T11:51:30.357206Z"
        },
        "papermill": {
          "duration": 0.204096,
          "end_time": "2021-03-31T11:51:30.358361",
          "exception": false,
          "start_time": "2021-03-31T11:51:30.154265",
          "status": "completed"
        },
        "tags": [],
        "id": "31uowDrkgHFI",
        "colab": {
          "base_uri": "https://localhost:8080/"
        },
        "outputId": "24dbd9a2-c078-4da6-a9dc-3285d76a2a7b"
      },
      "source": [
        "print('Classification report of test data \\n',classification_report(test_y,pred_test_y))"
      ],
      "execution_count": null,
      "outputs": [
        {
          "output_type": "stream",
          "text": [
            "Classification report of test data \n",
            "               precision    recall  f1-score   support\n",
            "\n",
            "           0       0.89      0.80      0.84     33287\n",
            "           1       0.82      0.90      0.86     33593\n",
            "\n",
            "    accuracy                           0.85     66880\n",
            "   macro avg       0.85      0.85      0.85     66880\n",
            "weighted avg       0.85      0.85      0.85     66880\n",
            "\n"
          ],
          "name": "stdout"
        }
      ]
    },
    {
      "cell_type": "markdown",
      "metadata": {
        "papermill": {
          "duration": 0.081294,
          "end_time": "2021-03-31T11:51:30.523374",
          "exception": false,
          "start_time": "2021-03-31T11:51:30.442080",
          "status": "completed"
        },
        "tags": [],
        "id": "Zun8I7b-gHFI"
      },
      "source": [
        "<h1 style=\"background-color:yellow;font-family:newtimeroman;font-size:300%;text-align:center;border-radius: 15px 50px;\">KNN Classifier</h1>\n",
        "<a id=18></a>"
      ]
    },
    {
      "cell_type": "code",
      "metadata": {
        "execution": {
          "iopub.execute_input": "2021-03-31T11:51:30.693933Z",
          "iopub.status.busy": "2021-03-31T11:51:30.693209Z",
          "iopub.status.idle": "2021-03-31T11:51:59.967161Z",
          "shell.execute_reply": "2021-03-31T11:51:59.966426Z"
        },
        "papermill": {
          "duration": 29.362539,
          "end_time": "2021-03-31T11:51:59.967339",
          "exception": false,
          "start_time": "2021-03-31T11:51:30.604800",
          "status": "completed"
        },
        "tags": [],
        "id": "PaxRsHQggHFI",
        "colab": {
          "base_uri": "https://localhost:8080/"
        },
        "outputId": "1c8a7420-2260-40a8-e9c3-6f62a1836e07"
      },
      "source": [
        "classifier4=KNeighborsClassifier(n_neighbors=100)\n",
        "classifier4.fit(train_x,train_y)"
      ],
      "execution_count": null,
      "outputs": [
        {
          "output_type": "execute_result",
          "data": {
            "text/plain": [
              "KNeighborsClassifier(algorithm='auto', leaf_size=30, metric='minkowski',\n",
              "                     metric_params=None, n_jobs=None, n_neighbors=100, p=2,\n",
              "                     weights='uniform')"
            ]
          },
          "metadata": {
            "tags": []
          },
          "execution_count": 51
        }
      ]
    },
    {
      "cell_type": "code",
      "metadata": {
        "_kg_hide-input": true,
        "execution": {
          "iopub.execute_input": "2021-03-31T11:52:00.141245Z",
          "iopub.status.busy": "2021-03-31T11:52:00.140471Z",
          "iopub.status.idle": "2021-03-31T11:54:22.349493Z",
          "shell.execute_reply": "2021-03-31T11:54:22.350061Z"
        },
        "papermill": {
          "duration": 142.301067,
          "end_time": "2021-03-31T11:54:22.350251",
          "exception": false,
          "start_time": "2021-03-31T11:52:00.049184",
          "status": "completed"
        },
        "tags": [],
        "colab": {
          "base_uri": "https://localhost:8080/",
          "height": 394
        },
        "id": "FRl9uKlgBRGB",
        "outputId": "12586c05-c92a-4c74-ee7e-9b43a2dceeeb"
      },
      "source": [
        "pred_test_y=classifier4.predict(test_x)\n",
        "pred_train_y=classifier4.predict(train_x)\n",
        "cm2=confusion_matrix(test_y,pred_test_y)\n",
        "plt.figure(figsize=(10,6))\n",
        "sns.heatmap(cm2,annot=True,cmap='RdYlGn')\n",
        "plt.title('Confusion metrices of test data',fontdict={'fontsize':18,'fontweight':'bold'})\n",
        "plt.show()"
      ],
      "execution_count": null,
      "outputs": [
        {
          "output_type": "display_data",
          "data": {
            "image/png": "[encoded data removed]",
            "text/plain": [
              "<Figure size 720x432 with 2 Axes>"
            ]
          },
          "metadata": {
            "tags": [],
            "needs_background": "light"
          }
        }
      ]
    },
    {
      "cell_type": "code",
      "metadata": {
        "execution": {
          "iopub.execute_input": "2021-03-31T11:54:22.516766Z",
          "iopub.status.busy": "2021-03-31T11:54:22.516103Z",
          "iopub.status.idle": "2021-03-31T11:54:23.652590Z",
          "shell.execute_reply": "2021-03-31T11:54:23.653197Z"
        },
        "papermill": {
          "duration": 1.221406,
          "end_time": "2021-03-31T11:54:23.653422",
          "exception": false,
          "start_time": "2021-03-31T11:54:22.432016",
          "status": "completed"
        },
        "tags": [],
        "colab": {
          "base_uri": "https://localhost:8080/"
        },
        "id": "LQV8ABtDBRGF",
        "outputId": "bb4c7ac6-441b-417c-b1bd-c0542016b9a7"
      },
      "source": [
        "print('Classification report of train data \\n',classification_report(train_y,pred_train_y))"
      ],
      "execution_count": null,
      "outputs": [
        {
          "output_type": "stream",
          "text": [
            "Classification report of train data \n",
            "               precision    recall  f1-score   support\n",
            "\n",
            "           0       0.82      0.61      0.70    301112\n",
            "           1       0.69      0.87      0.77    300806\n",
            "\n",
            "    accuracy                           0.74    601918\n",
            "   macro avg       0.76      0.74      0.73    601918\n",
            "weighted avg       0.76      0.74      0.73    601918\n",
            "\n"
          ],
          "name": "stdout"
        }
      ]
    },
    {
      "cell_type": "markdown",
      "metadata": {
        "papermill": {
          "duration": 0.084316,
          "end_time": "2021-03-31T11:54:24.114827",
          "exception": false,
          "start_time": "2021-03-31T11:54:24.030511",
          "status": "completed"
        },
        "tags": [],
        "id": "WWF2UMEkgHFJ"
      },
      "source": [
        "\n",
        "<h1 style=\"background-color:yellow;font-family:newtimeroman;font-size:300%;text-align:center;border-radius: 15px 50px;\">XGBoostClassifier</h1>\n",
        "<a id=19></a>"
      ]
    },
    {
      "cell_type": "code",
      "metadata": {
        "execution": {
          "iopub.execute_input": "2021-03-31T11:54:24.285808Z",
          "iopub.status.busy": "2021-03-31T11:54:24.285101Z",
          "iopub.status.idle": "2021-03-31T11:55:06.974409Z",
          "shell.execute_reply": "2021-03-31T11:55:06.974934Z"
        },
        "papermill": {
          "duration": 42.777794,
          "end_time": "2021-03-31T11:55:06.975130",
          "exception": false,
          "start_time": "2021-03-31T11:54:24.197336",
          "status": "completed"
        },
        "tags": [],
        "id": "IoiH_vaFgHFJ",
        "colab": {
          "base_uri": "https://localhost:8080/"
        },
        "outputId": "6271d338-690a-4252-bdd9-4a1e92049806"
      },
      "source": [
        "classifier5=XGBClassifier()\n",
        "classifier5.fit(train_x,train_y)"
      ],
      "execution_count": null,
      "outputs": [
        {
          "output_type": "execute_result",
          "data": {
            "text/plain": [
              "XGBClassifier(base_score=0.5, booster='gbtree', colsample_bylevel=1,\n",
              "              colsample_bynode=1, colsample_bytree=1, gamma=0,\n",
              "              learning_rate=0.1, max_delta_step=0, max_depth=3,\n",
              "              min_child_weight=1, missing=None, n_estimators=100, n_jobs=1,\n",
              "              nthread=None, objective='binary:logistic', random_state=0,\n",
              "              reg_alpha=0, reg_lambda=1, scale_pos_weight=1, seed=None,\n",
              "              silent=None, subsample=1, verbosity=1)"
            ]
          },
          "metadata": {
            "tags": []
          },
          "execution_count": 52
        }
      ]
    },
    {
      "cell_type": "code",
      "metadata": {
        "_kg_hide-input": true,
        "execution": {
          "iopub.execute_input": "2021-03-31T11:55:07.148755Z",
          "iopub.status.busy": "2021-03-31T11:55:07.147990Z",
          "iopub.status.idle": "2021-03-31T11:55:08.210479Z",
          "shell.execute_reply": "2021-03-31T11:55:08.209747Z"
        },
        "papermill": {
          "duration": 1.153816,
          "end_time": "2021-03-31T11:55:08.210663",
          "exception": false,
          "start_time": "2021-03-31T11:55:07.056847",
          "status": "completed"
        },
        "tags": [],
        "id": "gUyicXuKgHFK",
        "colab": {
          "base_uri": "https://localhost:8080/",
          "height": 394
        },
        "outputId": "ceb88aa7-d707-4b51-828f-aa3c57f39960"
      },
      "source": [
        "pred_test_y=classifier5.predict(test_x)\n",
        "pred_train_y=classifier5.predict(train_x)\n",
        "cm2=confusion_matrix(test_y,pred_test_y)\n",
        "plt.figure(figsize=(10,6))\n",
        "sns.heatmap(cm2,annot=True,cmap='RdYlGn')\n",
        "plt.title('Confusion metrices of test data',fontdict={'fontsize':18,'fontweight':'bold'})\n",
        "plt.show()"
      ],
      "execution_count": null,
      "outputs": [
        {
          "output_type": "display_data",
          "data": {
            "image/png": "[encoded data removed]",
            "text/plain": [
              "<Figure size 720x432 with 2 Axes>"
            ]
          },
          "metadata": {
            "tags": [],
            "needs_background": "light"
          }
        }
      ]
    },
    {
      "cell_type": "code",
      "metadata": {
        "execution": {
          "iopub.execute_input": "2021-03-31T11:55:08.387586Z",
          "iopub.status.busy": "2021-03-31T11:55:08.386683Z",
          "iopub.status.idle": "2021-03-31T11:55:09.587688Z",
          "shell.execute_reply": "2021-03-31T11:55:09.586963Z"
        },
        "papermill": {
          "duration": 1.291407,
          "end_time": "2021-03-31T11:55:09.587854",
          "exception": false,
          "start_time": "2021-03-31T11:55:08.296447",
          "status": "completed"
        },
        "tags": [],
        "id": "qZfHkGMQgHFK",
        "colab": {
          "base_uri": "https://localhost:8080/"
        },
        "outputId": "0976f57e-9605-4be4-cba3-28475786a113"
      },
      "source": [
        "print('Classification report of train data \\n',classification_report(train_y,pred_train_y))"
      ],
      "execution_count": null,
      "outputs": [
        {
          "output_type": "stream",
          "text": [
            "Classification report of train data \n",
            "               precision    recall  f1-score   support\n",
            "\n",
            "           0       0.91      0.80      0.85    301112\n",
            "           1       0.82      0.92      0.87    300806\n",
            "\n",
            "    accuracy                           0.86    601918\n",
            "   macro avg       0.86      0.86      0.86    601918\n",
            "weighted avg       0.86      0.86      0.86    601918\n",
            "\n"
          ],
          "name": "stdout"
        }
      ]
    },
    {
      "cell_type": "code",
      "metadata": {
        "execution": {
          "iopub.execute_input": "2021-03-31T11:55:09.766383Z",
          "iopub.status.busy": "2021-03-31T11:55:09.765330Z",
          "iopub.status.idle": "2021-03-31T11:55:09.889585Z",
          "shell.execute_reply": "2021-03-31T11:55:09.887417Z"
        },
        "papermill": {
          "duration": 0.215765,
          "end_time": "2021-03-31T11:55:09.889839",
          "exception": false,
          "start_time": "2021-03-31T11:55:09.674074",
          "status": "completed"
        },
        "tags": [],
        "id": "EFvlHMPggHFK",
        "colab": {
          "base_uri": "https://localhost:8080/"
        },
        "outputId": "bb7a72ad-1fdf-4bcc-ff5c-d63f25637f46"
      },
      "source": [
        "print('Classification report of test data \\n',classification_report(test_y,pred_test_y))"
      ],
      "execution_count": null,
      "outputs": [
        {
          "output_type": "stream",
          "text": [
            "Classification report of test data \n",
            "               precision    recall  f1-score   support\n",
            "\n",
            "           0       0.91      0.80      0.85     33287\n",
            "           1       0.82      0.92      0.87     33593\n",
            "\n",
            "    accuracy                           0.86     66880\n",
            "   macro avg       0.86      0.86      0.86     66880\n",
            "weighted avg       0.86      0.86      0.86     66880\n",
            "\n"
          ],
          "name": "stdout"
        }
      ]
    },
    {
      "cell_type": "markdown",
      "metadata": {
        "papermill": {
          "duration": 0.084108,
          "end_time": "2021-03-31T11:55:10.059816",
          "exception": false,
          "start_time": "2021-03-31T11:55:09.975708",
          "status": "completed"
        },
        "tags": [],
        "id": "BM3Wo29lgHFK"
      },
      "source": [
        "<h1 style=\"background-color:yellow;font-family:newtimeroman;font-size:300%;text-align:center;border-radius: 15px 50px;\">GradientBoosting Classifier</h1>\n",
        "<a id=20></a>"
      ]
    },
    {
      "cell_type": "code",
      "metadata": {
        "execution": {
          "iopub.execute_input": "2021-03-31T11:55:10.263257Z",
          "iopub.status.busy": "2021-03-31T11:55:10.261542Z",
          "iopub.status.idle": "2021-03-31T11:57:32.878130Z",
          "shell.execute_reply": "2021-03-31T11:57:32.878658Z"
        },
        "papermill": {
          "duration": 142.732903,
          "end_time": "2021-03-31T11:57:32.878873",
          "exception": false,
          "start_time": "2021-03-31T11:55:10.145970",
          "status": "completed"
        },
        "tags": [],
        "id": "52JH0TbagHFK",
        "colab": {
          "base_uri": "https://localhost:8080/"
        },
        "outputId": "e8b12cac-2141-4a7a-e051-d1b4c001190b"
      },
      "source": [
        "classifier6=GradientBoostingClassifier(random_state=42)\n",
        "classifier6.fit(train_x,train_y)"
      ],
      "execution_count": null,
      "outputs": [
        {
          "output_type": "execute_result",
          "data": {
            "text/plain": [
              "GradientBoostingClassifier(ccp_alpha=0.0, criterion='friedman_mse', init=None,\n",
              "                           learning_rate=0.1, loss='deviance', max_depth=3,\n",
              "                           max_features=None, max_leaf_nodes=None,\n",
              "                           min_impurity_decrease=0.0, min_impurity_split=None,\n",
              "                           min_samples_leaf=1, min_samples_split=2,\n",
              "                           min_weight_fraction_leaf=0.0, n_estimators=100,\n",
              "                           n_iter_no_change=None, presort='deprecated',\n",
              "                           random_state=42, subsample=1.0, tol=0.0001,\n",
              "                           validation_fraction=0.1, verbose=0,\n",
              "                           warm_start=False)"
            ]
          },
          "metadata": {
            "tags": []
          },
          "execution_count": 56
        }
      ]
    },
    {
      "cell_type": "code",
      "metadata": {
        "_kg_hide-input": true,
        "execution": {
          "iopub.execute_input": "2021-03-31T11:57:33.057016Z",
          "iopub.status.busy": "2021-03-31T11:57:33.056265Z",
          "iopub.status.idle": "2021-03-31T11:57:34.422616Z",
          "shell.execute_reply": "2021-03-31T11:57:34.423159Z"
        },
        "papermill": {
          "duration": 1.459801,
          "end_time": "2021-03-31T11:57:34.423372",
          "exception": false,
          "start_time": "2021-03-31T11:57:32.963571",
          "status": "completed"
        },
        "tags": [],
        "id": "Eduir9LmgHFL",
        "colab": {
          "base_uri": "https://localhost:8080/",
          "height": 394
        },
        "outputId": "9cfaaf2f-a29a-479b-cd22-881ac4f3ce17"
      },
      "source": [
        "pred_test_y=classifier6.predict(test_x)\n",
        "pred_train_y=classifier6.predict(train_x)\n",
        "cm2=confusion_matrix(test_y,pred_test_y)\n",
        "plt.figure(figsize=(10,6))\n",
        "sns.heatmap(cm2,annot=True,cmap='RdYlGn')\n",
        "plt.title('Confusion metrices of test data',fontdict={'fontsize':18,'fontweight':'bold'})\n",
        "plt.show()"
      ],
      "execution_count": null,
      "outputs": [
        {
          "output_type": "display_data",
          "data": {
            "image/png": "[encoded data removed]",
            "text/plain": [
              "<Figure size 720x432 with 2 Axes>"
            ]
          },
          "metadata": {
            "tags": [],
            "needs_background": "light"
          }
        }
      ]
    },
    {
      "cell_type": "code",
      "metadata": {
        "execution": {
          "iopub.execute_input": "2021-03-31T11:57:34.601415Z",
          "iopub.status.busy": "2021-03-31T11:57:34.600733Z",
          "iopub.status.idle": "2021-03-31T11:57:35.844014Z",
          "shell.execute_reply": "2021-03-31T11:57:35.844521Z"
        },
        "papermill": {
          "duration": 1.334263,
          "end_time": "2021-03-31T11:57:35.844719",
          "exception": false,
          "start_time": "2021-03-31T11:57:34.510456",
          "status": "completed"
        },
        "tags": [],
        "id": "WLN_WhWagHFL",
        "colab": {
          "base_uri": "https://localhost:8080/"
        },
        "outputId": "4c30a226-2849-43e7-f6a7-93446012f449"
      },
      "source": [
        "print('Classification report of train data \\n',classification_report(train_y,pred_train_y))"
      ],
      "execution_count": null,
      "outputs": [
        {
          "output_type": "stream",
          "text": [
            "Classification report of train data \n",
            "               precision    recall  f1-score   support\n",
            "\n",
            "           0       0.91      0.80      0.85    301112\n",
            "           1       0.82      0.92      0.87    300806\n",
            "\n",
            "    accuracy                           0.86    601918\n",
            "   macro avg       0.86      0.86      0.86    601918\n",
            "weighted avg       0.86      0.86      0.86    601918\n",
            "\n"
          ],
          "name": "stdout"
        }
      ]
    },
    {
      "cell_type": "code",
      "metadata": {
        "execution": {
          "iopub.execute_input": "2021-03-31T11:57:36.022561Z",
          "iopub.status.busy": "2021-03-31T11:57:36.021849Z",
          "iopub.status.idle": "2021-03-31T11:57:36.152358Z",
          "shell.execute_reply": "2021-03-31T11:57:36.151653Z"
        },
        "papermill": {
          "duration": 0.221226,
          "end_time": "2021-03-31T11:57:36.152587",
          "exception": false,
          "start_time": "2021-03-31T11:57:35.931361",
          "status": "completed"
        },
        "tags": [],
        "id": "OiNkP3kbgHFL",
        "colab": {
          "base_uri": "https://localhost:8080/"
        },
        "outputId": "5464a50b-eea6-4b3e-840a-8e0d480d2a01"
      },
      "source": [
        "print('Classification report of test data \\n',classification_report(test_y,pred_test_y))"
      ],
      "execution_count": null,
      "outputs": [
        {
          "output_type": "stream",
          "text": [
            "Classification report of test data \n",
            "               precision    recall  f1-score   support\n",
            "\n",
            "           0       0.90      0.80      0.85     33287\n",
            "           1       0.82      0.92      0.87     33593\n",
            "\n",
            "    accuracy                           0.86     66880\n",
            "   macro avg       0.86      0.86      0.86     66880\n",
            "weighted avg       0.86      0.86      0.86     66880\n",
            "\n"
          ],
          "name": "stdout"
        }
      ]
    },
    {
      "cell_type": "markdown",
      "metadata": {
        "papermill": {
          "duration": 0.09151,
          "end_time": "2021-03-31T11:57:39.409959",
          "exception": false,
          "start_time": "2021-03-31T11:57:39.318449",
          "status": "completed"
        },
        "tags": [],
        "id": "7cgv2PocgHFM"
      },
      "source": [
        "<h1 style=\"background-color:yellow;font-family:newtimeroman;font-size:300%;text-align:center;border-radius: 15px 50px;\">LinearSVC</h1>\n",
        "<a id=22></a>"
      ]
    },
    {
      "cell_type": "code",
      "metadata": {
        "execution": {
          "iopub.execute_input": "2021-03-31T11:57:39.600440Z",
          "iopub.status.busy": "2021-03-31T11:57:39.599690Z",
          "iopub.status.idle": "2021-03-31T12:01:24.907358Z",
          "shell.execute_reply": "2021-03-31T12:01:24.907881Z"
        },
        "papermill": {
          "duration": 225.406475,
          "end_time": "2021-03-31T12:01:24.908087",
          "exception": false,
          "start_time": "2021-03-31T11:57:39.501612",
          "status": "completed"
        },
        "tags": [],
        "id": "rzlkXJFEgHFM",
        "colab": {
          "base_uri": "https://localhost:8080/"
        },
        "outputId": "c0ea576a-8235-47a2-83ac-65b4c927d599"
      },
      "source": [
        "classifier8=LinearSVC()\n",
        "classifier8.fit(train_x,train_y)"
      ],
      "execution_count": null,
      "outputs": [
        {
          "output_type": "execute_result",
          "data": {
            "text/plain": [
              "LinearSVC(C=1.0, class_weight=None, dual=True, fit_intercept=True,\n",
              "          intercept_scaling=1, loss='squared_hinge', max_iter=1000,\n",
              "          multi_class='ovr', penalty='l2', random_state=None, tol=0.0001,\n",
              "          verbose=0)"
            ]
          },
          "metadata": {
            "tags": []
          },
          "execution_count": 62
        }
      ]
    },
    {
      "cell_type": "code",
      "metadata": {
        "_kg_hide-input": true,
        "execution": {
          "iopub.execute_input": "2021-03-31T12:01:25.167004Z",
          "iopub.status.busy": "2021-03-31T12:01:25.165917Z",
          "iopub.status.idle": "2021-03-31T12:01:25.503255Z",
          "shell.execute_reply": "2021-03-31T12:01:25.503813Z"
        },
        "papermill": {
          "duration": 0.504007,
          "end_time": "2021-03-31T12:01:25.504007",
          "exception": false,
          "start_time": "2021-03-31T12:01:25",
          "status": "completed"
        },
        "tags": [],
        "id": "SmEIhw0wgHFM",
        "colab": {
          "base_uri": "https://localhost:8080/",
          "height": 394
        },
        "outputId": "ae974398-3feb-4005-b32c-af1572b2d0ba"
      },
      "source": [
        "pred_test_y=classifier8.predict(test_x)\n",
        "pred_train_y=classifier8.predict(train_x)\n",
        "cm2=confusion_matrix(test_y,pred_test_y)\n",
        "plt.figure(figsize=(10,6))\n",
        "sns.heatmap(cm2,annot=True,cmap='gist_heat')\n",
        "plt.title('Confusion metrices of test data',fontdict={'fontsize':18,'fontweight':'bold'})\n",
        "plt.show()"
      ],
      "execution_count": null,
      "outputs": [
        {
          "output_type": "display_data",
          "data": {
            "image/png": "[encoded data removed]",
            "text/plain": [
              "<Figure size 720x432 with 2 Axes>"
            ]
          },
          "metadata": {
            "tags": [],
            "needs_background": "light"
          }
        }
      ]
    },
    {
      "cell_type": "code",
      "metadata": {
        "execution": {
          "iopub.execute_input": "2021-03-31T12:01:25.692082Z",
          "iopub.status.busy": "2021-03-31T12:01:25.688291Z",
          "iopub.status.idle": "2021-03-31T12:01:26.944837Z",
          "shell.execute_reply": "2021-03-31T12:01:26.944262Z"
        },
        "papermill": {
          "duration": 1.350319,
          "end_time": "2021-03-31T12:01:26.945008",
          "exception": false,
          "start_time": "2021-03-31T12:01:25.594689",
          "status": "completed"
        },
        "tags": [],
        "id": "jGD6crM1gHFN",
        "colab": {
          "base_uri": "https://localhost:8080/"
        },
        "outputId": "6957748d-979a-4216-a87d-be80afeef015"
      },
      "source": [
        "print('Classification report of train data \\n',classification_report(train_y,pred_train_y))"
      ],
      "execution_count": null,
      "outputs": [
        {
          "output_type": "stream",
          "text": [
            "Classification report of train data \n",
            "               precision    recall  f1-score   support\n",
            "\n",
            "           0       0.89      0.80      0.84    301112\n",
            "           1       0.82      0.90      0.85    300806\n",
            "\n",
            "    accuracy                           0.85    601918\n",
            "   macro avg       0.85      0.85      0.85    601918\n",
            "weighted avg       0.85      0.85      0.85    601918\n",
            "\n"
          ],
          "name": "stdout"
        }
      ]
    },
    {
      "cell_type": "code",
      "metadata": {
        "execution": {
          "iopub.execute_input": "2021-03-31T12:01:27.145014Z",
          "iopub.status.busy": "2021-03-31T12:01:27.143872Z",
          "iopub.status.idle": "2021-03-31T12:01:27.270720Z",
          "shell.execute_reply": "2021-03-31T12:01:27.271238Z"
        },
        "papermill": {
          "duration": 0.233197,
          "end_time": "2021-03-31T12:01:27.271469",
          "exception": false,
          "start_time": "2021-03-31T12:01:27.038272",
          "status": "completed"
        },
        "tags": [],
        "id": "lusqagragHFN",
        "colab": {
          "base_uri": "https://localhost:8080/"
        },
        "outputId": "401345b8-8747-4d97-8306-ed26f10b4fd4"
      },
      "source": [
        "print('Classification report of test data \\n',classification_report(test_y,pred_test_y))"
      ],
      "execution_count": null,
      "outputs": [
        {
          "output_type": "stream",
          "text": [
            "Classification report of test data \n",
            "               precision    recall  f1-score   support\n",
            "\n",
            "           0       0.89      0.80      0.84     33287\n",
            "           1       0.82      0.90      0.86     33593\n",
            "\n",
            "    accuracy                           0.85     66880\n",
            "   macro avg       0.85      0.85      0.85     66880\n",
            "weighted avg       0.85      0.85      0.85     66880\n",
            "\n"
          ],
          "name": "stdout"
        }
      ]
    },
    {
      "cell_type": "code",
      "metadata": {
        "id": "C_tVYehM-NuG"
      },
      "source": [
        ""
      ],
      "execution_count": null,
      "outputs": []
    },
    {
      "cell_type": "markdown",
      "metadata": {
        "id": "F_EObtV2CjzY"
      },
      "source": [
        "#Model Saving"
      ]
    },
    {
      "cell_type": "code",
      "metadata": {
        "id": "2ygGiSEAju8T"
      },
      "source": [
        "import pickle\n",
        "filename=\"xgboost_model.pkl\"\n",
        "with open(filename, 'wb') as file:\n",
        "  pickle.dump(classifier5, file)"
      ],
      "execution_count": null,
      "outputs": []
    },
    {
      "cell_type": "code",
      "metadata": {
        "colab": {
          "base_uri": "https://localhost:8080/"
        },
        "id": "GreydXp-O5yG",
        "outputId": "8d7dfa10-9f66-4770-fb6a-d093d8e1f70a"
      },
      "source": [
        "df['Vehicle_Age'].unique()"
      ],
      "execution_count": null,
      "outputs": [
        {
          "output_type": "execute_result",
          "data": {
            "text/plain": [
              "array(['> 2 Years', '1-2 Year', '< 1 Year'], dtype=object)"
            ]
          },
          "metadata": {
            "tags": []
          },
          "execution_count": 67
        }
      ]
    },
    {
      "cell_type": "code",
      "metadata": {
        "colab": {
          "base_uri": "https://localhost:8080/"
        },
        "id": "BeieEcXmL7lR",
        "outputId": "46ccc67e-0af4-421b-c782-5722b22278e0"
      },
      "source": [
        "print(df['Vintage'].max())\n",
        "print(df['Vintage'].min())"
      ],
      "execution_count": null,
      "outputs": [
        {
          "output_type": "stream",
          "text": [
            "299\n",
            "10\n"
          ],
          "name": "stdout"
        }
      ]
    },
    {
      "cell_type": "markdown",
      "metadata": {
        "id": "HxoprDiBG7j7"
      },
      "source": [
        "#Testing"
      ]
    },
    {
      "cell_type": "code",
      "metadata": {
        "id": "xYu7QxB5FtEM"
      },
      "source": [
        "model = pickle.load(open(\"xgboost_model.pkl\", 'rb'))"
      ],
      "execution_count": null,
      "outputs": []
    },
    {
      "cell_type": "code",
      "metadata": {
        "colab": {
          "base_uri": "https://localhost:8080/",
          "height": 126
        },
        "id": "XnXZJITOGvRS",
        "outputId": "d69d0556-1ecb-4ce5-b061-8e065dbb4de8"
      },
      "source": [
        "test_data = pd.read_csv('test.csv')\n",
        "test_data.head(2)"
      ],
      "execution_count": null,
      "outputs": [
        {
          "output_type": "execute_result",
          "data": {
            "text/html": [
              "<div>\n",
              "<style scoped>\n",
              "    .dataframe tbody tr th:only-of-type {\n",
              "        vertical-align: middle;\n",
              "    }\n",
              "\n",
              "    .dataframe tbody tr th {\n",
              "        vertical-align: top;\n",
              "    }\n",
              "\n",
              "    .dataframe thead th {\n",
              "        text-align: right;\n",
              "    }\n",
              "</style>\n",
              "<table border=\"1\" class=\"dataframe\">\n",
              "  <thead>\n",
              "    <tr style=\"text-align: right;\">\n",
              "      <th></th>\n",
              "      <th>id</th>\n",
              "      <th>Gender</th>\n",
              "      <th>Age</th>\n",
              "      <th>Driving_License</th>\n",
              "      <th>Region_Code</th>\n",
              "      <th>Previously_Insured</th>\n",
              "      <th>Vehicle_Age</th>\n",
              "      <th>Vehicle_Damage</th>\n",
              "      <th>Annual_Premium</th>\n",
              "      <th>Policy_Sales_Channel</th>\n",
              "      <th>Vintage</th>\n",
              "    </tr>\n",
              "  </thead>\n",
              "  <tbody>\n",
              "    <tr>\n",
              "      <th>0</th>\n",
              "      <td>381110</td>\n",
              "      <td>Male</td>\n",
              "      <td>25</td>\n",
              "      <td>1</td>\n",
              "      <td>11.0</td>\n",
              "      <td>1</td>\n",
              "      <td>&lt; 1 Year</td>\n",
              "      <td>No</td>\n",
              "      <td>35786.0</td>\n",
              "      <td>152.0</td>\n",
              "      <td>53</td>\n",
              "    </tr>\n",
              "    <tr>\n",
              "      <th>1</th>\n",
              "      <td>381111</td>\n",
              "      <td>Male</td>\n",
              "      <td>40</td>\n",
              "      <td>1</td>\n",
              "      <td>28.0</td>\n",
              "      <td>0</td>\n",
              "      <td>1-2 Year</td>\n",
              "      <td>Yes</td>\n",
              "      <td>33762.0</td>\n",
              "      <td>7.0</td>\n",
              "      <td>111</td>\n",
              "    </tr>\n",
              "  </tbody>\n",
              "</table>\n",
              "</div>"
            ],
            "text/plain": [
              "       id Gender  Age  ...  Annual_Premium  Policy_Sales_Channel  Vintage\n",
              "0  381110   Male   25  ...         35786.0                 152.0       53\n",
              "1  381111   Male   40  ...         33762.0                   7.0      111\n",
              "\n",
              "[2 rows x 11 columns]"
            ]
          },
          "metadata": {
            "tags": []
          },
          "execution_count": 71
        }
      ]
    },
    {
      "cell_type": "code",
      "metadata": {
        "colab": {
          "base_uri": "https://localhost:8080/",
          "height": 143
        },
        "id": "2JbKvm9UPf3Y",
        "outputId": "969ca2a8-35cc-480d-b118-51f1e7cb1c12"
      },
      "source": [
        "test_data=preprocessor(test_data)\n",
        "test_data.head(2)"
      ],
      "execution_count": null,
      "outputs": [
        {
          "output_type": "execute_result",
          "data": {
            "text/html": [
              "<div>\n",
              "<style scoped>\n",
              "    .dataframe tbody tr th:only-of-type {\n",
              "        vertical-align: middle;\n",
              "    }\n",
              "\n",
              "    .dataframe tbody tr th {\n",
              "        vertical-align: top;\n",
              "    }\n",
              "\n",
              "    .dataframe thead th {\n",
              "        text-align: right;\n",
              "    }\n",
              "</style>\n",
              "<table border=\"1\" class=\"dataframe\">\n",
              "  <thead>\n",
              "    <tr style=\"text-align: right;\">\n",
              "      <th></th>\n",
              "      <th>id</th>\n",
              "      <th>Age</th>\n",
              "      <th>Region_Code</th>\n",
              "      <th>Previously_Insured</th>\n",
              "      <th>Annual_Premium</th>\n",
              "      <th>Policy_Sales_Channel</th>\n",
              "      <th>Vintage</th>\n",
              "      <th>Gender_Female</th>\n",
              "      <th>Gender_Male</th>\n",
              "      <th>Vehicle_Age_1-2 Year</th>\n",
              "      <th>Vehicle_Age_&lt; 1 Year</th>\n",
              "      <th>Vehicle_Age_&gt; 2 Years</th>\n",
              "      <th>Vehicle_Damage_No</th>\n",
              "      <th>Vehicle_Damage_Yes</th>\n",
              "      <th>Driving_License_0</th>\n",
              "      <th>Driving_License_1</th>\n",
              "    </tr>\n",
              "  </thead>\n",
              "  <tbody>\n",
              "    <tr>\n",
              "      <th>0</th>\n",
              "      <td>381110</td>\n",
              "      <td>25</td>\n",
              "      <td>11.0</td>\n",
              "      <td>1</td>\n",
              "      <td>35786.0</td>\n",
              "      <td>152.0</td>\n",
              "      <td>53</td>\n",
              "      <td>0</td>\n",
              "      <td>1</td>\n",
              "      <td>0</td>\n",
              "      <td>1</td>\n",
              "      <td>0</td>\n",
              "      <td>1</td>\n",
              "      <td>0</td>\n",
              "      <td>0</td>\n",
              "      <td>1</td>\n",
              "    </tr>\n",
              "    <tr>\n",
              "      <th>1</th>\n",
              "      <td>381111</td>\n",
              "      <td>40</td>\n",
              "      <td>28.0</td>\n",
              "      <td>0</td>\n",
              "      <td>33762.0</td>\n",
              "      <td>7.0</td>\n",
              "      <td>111</td>\n",
              "      <td>0</td>\n",
              "      <td>1</td>\n",
              "      <td>1</td>\n",
              "      <td>0</td>\n",
              "      <td>0</td>\n",
              "      <td>0</td>\n",
              "      <td>1</td>\n",
              "      <td>0</td>\n",
              "      <td>1</td>\n",
              "    </tr>\n",
              "  </tbody>\n",
              "</table>\n",
              "</div>"
            ],
            "text/plain": [
              "       id  Age  ...  Driving_License_0  Driving_License_1\n",
              "0  381110   25  ...                  0                  1\n",
              "1  381111   40  ...                  0                  1\n",
              "\n",
              "[2 rows x 16 columns]"
            ]
          },
          "metadata": {
            "tags": []
          },
          "execution_count": 72
        }
      ]
    },
    {
      "cell_type": "code",
      "metadata": {
        "id": "760V7GWIeVUO"
      },
      "source": [
        "test_data.drop(['id'],inplace=True,axis=1)"
      ],
      "execution_count": null,
      "outputs": []
    },
    {
      "cell_type": "code",
      "metadata": {
        "colab": {
          "base_uri": "https://localhost:8080/",
          "height": 143
        },
        "id": "2foJGEPoHt9k",
        "outputId": "b883dfab-65f5-4d72-d99f-2c25eeadde3f"
      },
      "source": [
        "test_data[numer]=scaler.transform(test_data[numer])\n",
        "test_data.head(2)"
      ],
      "execution_count": null,
      "outputs": [
        {
          "output_type": "execute_result",
          "data": {
            "text/html": [
              "<div>\n",
              "<style scoped>\n",
              "    .dataframe tbody tr th:only-of-type {\n",
              "        vertical-align: middle;\n",
              "    }\n",
              "\n",
              "    .dataframe tbody tr th {\n",
              "        vertical-align: top;\n",
              "    }\n",
              "\n",
              "    .dataframe thead th {\n",
              "        text-align: right;\n",
              "    }\n",
              "</style>\n",
              "<table border=\"1\" class=\"dataframe\">\n",
              "  <thead>\n",
              "    <tr style=\"text-align: right;\">\n",
              "      <th></th>\n",
              "      <th>Age</th>\n",
              "      <th>Region_Code</th>\n",
              "      <th>Previously_Insured</th>\n",
              "      <th>Annual_Premium</th>\n",
              "      <th>Policy_Sales_Channel</th>\n",
              "      <th>Vintage</th>\n",
              "      <th>Gender_Female</th>\n",
              "      <th>Gender_Male</th>\n",
              "      <th>Vehicle_Age_1-2 Year</th>\n",
              "      <th>Vehicle_Age_&lt; 1 Year</th>\n",
              "      <th>Vehicle_Age_&gt; 2 Years</th>\n",
              "      <th>Vehicle_Damage_No</th>\n",
              "      <th>Vehicle_Damage_Yes</th>\n",
              "      <th>Driving_License_0</th>\n",
              "      <th>Driving_License_1</th>\n",
              "    </tr>\n",
              "  </thead>\n",
              "  <tbody>\n",
              "    <tr>\n",
              "      <th>0</th>\n",
              "      <td>-1.130182</td>\n",
              "      <td>-1.284088</td>\n",
              "      <td>1</td>\n",
              "      <td>0.267481</td>\n",
              "      <td>0.879408</td>\n",
              "      <td>-1.215777</td>\n",
              "      <td>0</td>\n",
              "      <td>1</td>\n",
              "      <td>0</td>\n",
              "      <td>1</td>\n",
              "      <td>0</td>\n",
              "      <td>1</td>\n",
              "      <td>0</td>\n",
              "      <td>0</td>\n",
              "      <td>1</td>\n",
              "    </tr>\n",
              "    <tr>\n",
              "      <th>1</th>\n",
              "      <td>-0.041455</td>\n",
              "      <td>0.127442</td>\n",
              "      <td>0</td>\n",
              "      <td>0.153987</td>\n",
              "      <td>-1.727234</td>\n",
              "      <td>-0.518479</td>\n",
              "      <td>0</td>\n",
              "      <td>1</td>\n",
              "      <td>1</td>\n",
              "      <td>0</td>\n",
              "      <td>0</td>\n",
              "      <td>0</td>\n",
              "      <td>1</td>\n",
              "      <td>0</td>\n",
              "      <td>1</td>\n",
              "    </tr>\n",
              "  </tbody>\n",
              "</table>\n",
              "</div>"
            ],
            "text/plain": [
              "        Age  Region_Code  ...  Driving_License_0  Driving_License_1\n",
              "0 -1.130182    -1.284088  ...                  0                  1\n",
              "1 -0.041455     0.127442  ...                  0                  1\n",
              "\n",
              "[2 rows x 15 columns]"
            ]
          },
          "metadata": {
            "tags": []
          },
          "execution_count": 74
        }
      ]
    },
    {
      "cell_type": "code",
      "metadata": {
        "colab": {
          "base_uri": "https://localhost:8080/"
        },
        "id": "iHY1lIXhNOth",
        "outputId": "384b9e1d-0a66-4ba3-e7ca-c4c29aac491c"
      },
      "source": [
        "test_data.shape"
      ],
      "execution_count": null,
      "outputs": [
        {
          "output_type": "execute_result",
          "data": {
            "text/plain": [
              "(127037, 15)"
            ]
          },
          "metadata": {
            "tags": []
          },
          "execution_count": 75
        }
      ]
    },
    {
      "cell_type": "code",
      "metadata": {
        "id": "5w5umaQOHdgw"
      },
      "source": [
        "test_X= np.array(test_data)"
      ],
      "execution_count": null,
      "outputs": []
    },
    {
      "cell_type": "code",
      "metadata": {
        "colab": {
          "base_uri": "https://localhost:8080/"
        },
        "id": "EvqPKozpNKkJ",
        "outputId": "44fb744a-1292-4830-ecaa-3f2e7fff79c4"
      },
      "source": [
        "test_X"
      ],
      "execution_count": null,
      "outputs": [
        {
          "output_type": "execute_result",
          "data": {
            "text/plain": [
              "array([[-1.130182  , -1.28408803,  1.        , ...,  0.        ,\n",
              "         0.        ,  1.        ],\n",
              "       [-0.04145499,  0.12744194,  0.        , ...,  1.        ,\n",
              "         0.        ,  1.        ],\n",
              "       [ 0.46661761,  0.12744194,  0.        , ...,  1.        ,\n",
              "         0.        ,  1.        ],\n",
              "       ...,\n",
              "       [-1.4205092 ,  1.62200308,  1.        , ...,  0.        ,\n",
              "         0.        ,  1.        ],\n",
              "       [ 2.20858082,  0.12744194,  1.        , ...,  0.        ,\n",
              "         0.        ,  1.        ],\n",
              "       [ 0.03112681,  0.21047311,  1.        , ...,  0.        ,\n",
              "         0.        ,  1.        ]])"
            ]
          },
          "metadata": {
            "tags": []
          },
          "execution_count": 77
        }
      ]
    },
    {
      "cell_type": "code",
      "metadata": {
        "id": "AlqiLsVSQcay"
      },
      "source": [
        "preds=model.predict(test_X)"
      ],
      "execution_count": null,
      "outputs": []
    },
    {
      "cell_type": "code",
      "metadata": {
        "colab": {
          "base_uri": "https://localhost:8080/"
        },
        "id": "oyII6cqiQfNO",
        "outputId": "a93fb38a-c0e7-4b44-9e82-56abc755a5e4"
      },
      "source": [
        "preds"
      ],
      "execution_count": null,
      "outputs": [
        {
          "output_type": "execute_result",
          "data": {
            "text/plain": [
              "array([0, 1, 1, ..., 0, 0, 0])"
            ]
          },
          "metadata": {
            "tags": []
          },
          "execution_count": 79
        }
      ]
    },
    {
      "cell_type": "markdown",
      "metadata": {
        "id": "42TQVneEDAyR"
      },
      "source": [
        "#Saving scaler to deploy inference pipeline"
      ]
    },
    {
      "cell_type": "code",
      "metadata": {
        "id": "JOSHKXILjWtu"
      },
      "source": [
        "filename=\"scaler.pkl\"\n",
        "with open(filename, 'wb') as file:\n",
        "  pickle.dump(scaler, file)"
      ],
      "execution_count": null,
      "outputs": []
    },
    {
      "cell_type": "code",
      "metadata": {
        "id": "7_K2TFUHpa6z"
      },
      "source": [
        "test_data = pd.read_csv('test.csv')\n",
        "test_data.drop(['id'],inplace=True,axis=1)"
      ],
      "execution_count": null,
      "outputs": []
    },
    {
      "cell_type": "code",
      "metadata": {
        "colab": {
          "base_uri": "https://localhost:8080/",
          "height": 106
        },
        "id": "RnEYe2appcly",
        "outputId": "432d9310-48d7-4053-bdb9-a36d00133242"
      },
      "source": [
        "test_data.head(2)"
      ],
      "execution_count": null,
      "outputs": [
        {
          "output_type": "execute_result",
          "data": {
            "text/html": [
              "<div>\n",
              "<style scoped>\n",
              "    .dataframe tbody tr th:only-of-type {\n",
              "        vertical-align: middle;\n",
              "    }\n",
              "\n",
              "    .dataframe tbody tr th {\n",
              "        vertical-align: top;\n",
              "    }\n",
              "\n",
              "    .dataframe thead th {\n",
              "        text-align: right;\n",
              "    }\n",
              "</style>\n",
              "<table border=\"1\" class=\"dataframe\">\n",
              "  <thead>\n",
              "    <tr style=\"text-align: right;\">\n",
              "      <th></th>\n",
              "      <th>Gender</th>\n",
              "      <th>Age</th>\n",
              "      <th>Driving_License</th>\n",
              "      <th>Region_Code</th>\n",
              "      <th>Previously_Insured</th>\n",
              "      <th>Vehicle_Age</th>\n",
              "      <th>Vehicle_Damage</th>\n",
              "      <th>Annual_Premium</th>\n",
              "      <th>Policy_Sales_Channel</th>\n",
              "      <th>Vintage</th>\n",
              "    </tr>\n",
              "  </thead>\n",
              "  <tbody>\n",
              "    <tr>\n",
              "      <th>0</th>\n",
              "      <td>Male</td>\n",
              "      <td>25</td>\n",
              "      <td>1</td>\n",
              "      <td>11.0</td>\n",
              "      <td>1</td>\n",
              "      <td>&lt; 1 Year</td>\n",
              "      <td>No</td>\n",
              "      <td>35786.0</td>\n",
              "      <td>152.0</td>\n",
              "      <td>53</td>\n",
              "    </tr>\n",
              "    <tr>\n",
              "      <th>1</th>\n",
              "      <td>Male</td>\n",
              "      <td>40</td>\n",
              "      <td>1</td>\n",
              "      <td>28.0</td>\n",
              "      <td>0</td>\n",
              "      <td>1-2 Year</td>\n",
              "      <td>Yes</td>\n",
              "      <td>33762.0</td>\n",
              "      <td>7.0</td>\n",
              "      <td>111</td>\n",
              "    </tr>\n",
              "  </tbody>\n",
              "</table>\n",
              "</div>"
            ],
            "text/plain": [
              "  Gender  Age  Driving_License  ...  Annual_Premium  Policy_Sales_Channel Vintage\n",
              "0   Male   25                1  ...         35786.0                 152.0      53\n",
              "1   Male   40                1  ...         33762.0                   7.0     111\n",
              "\n",
              "[2 rows x 10 columns]"
            ]
          },
          "metadata": {
            "tags": []
          },
          "execution_count": 82
        }
      ]
    },
    {
      "cell_type": "code",
      "metadata": {
        "id": "CegnsgirjWnh"
      },
      "source": [
        "# Reads in saved Scaler\n",
        "scaler = pickle.load(open('scaler.pkl', 'rb'))"
      ],
      "execution_count": null,
      "outputs": []
    },
    {
      "cell_type": "code",
      "metadata": {
        "id": "sJLaDfU_jWk2"
      },
      "source": [
        "# scaler =StandardScaler()\n",
        "processed_data=preprocessor(test_data) #Handling categorical variables\n",
        "processed_data.iloc[:1,:5]=scaler.transform(processed_data[:1][numer])\n",
        "processed_input_data=processed_data[:1]"
      ],
      "execution_count": null,
      "outputs": []
    },
    {
      "cell_type": "code",
      "metadata": {
        "colab": {
          "base_uri": "https://localhost:8080/",
          "height": 114
        },
        "id": "30Z314q2sLIl",
        "outputId": "8a4098d4-7bc9-4350-fa6f-ef429029fb6c"
      },
      "source": [
        "processed_input_data"
      ],
      "execution_count": null,
      "outputs": [
        {
          "output_type": "execute_result",
          "data": {
            "text/html": [
              "<div>\n",
              "<style scoped>\n",
              "    .dataframe tbody tr th:only-of-type {\n",
              "        vertical-align: middle;\n",
              "    }\n",
              "\n",
              "    .dataframe tbody tr th {\n",
              "        vertical-align: top;\n",
              "    }\n",
              "\n",
              "    .dataframe thead th {\n",
              "        text-align: right;\n",
              "    }\n",
              "</style>\n",
              "<table border=\"1\" class=\"dataframe\">\n",
              "  <thead>\n",
              "    <tr style=\"text-align: right;\">\n",
              "      <th></th>\n",
              "      <th>Age</th>\n",
              "      <th>Region_Code</th>\n",
              "      <th>Previously_Insured</th>\n",
              "      <th>Annual_Premium</th>\n",
              "      <th>Policy_Sales_Channel</th>\n",
              "      <th>Vintage</th>\n",
              "      <th>Gender_Female</th>\n",
              "      <th>Gender_Male</th>\n",
              "      <th>Vehicle_Age_1-2 Year</th>\n",
              "      <th>Vehicle_Age_&lt; 1 Year</th>\n",
              "      <th>Vehicle_Age_&gt; 2 Years</th>\n",
              "      <th>Vehicle_Damage_No</th>\n",
              "      <th>Vehicle_Damage_Yes</th>\n",
              "      <th>Driving_License_0</th>\n",
              "      <th>Driving_License_1</th>\n",
              "    </tr>\n",
              "  </thead>\n",
              "  <tbody>\n",
              "    <tr>\n",
              "      <th>0</th>\n",
              "      <td>-1.130182</td>\n",
              "      <td>0.267481</td>\n",
              "      <td>0.879408</td>\n",
              "      <td>-1.215777</td>\n",
              "      <td>-1.284088</td>\n",
              "      <td>53</td>\n",
              "      <td>0</td>\n",
              "      <td>1</td>\n",
              "      <td>0</td>\n",
              "      <td>1</td>\n",
              "      <td>0</td>\n",
              "      <td>1</td>\n",
              "      <td>0</td>\n",
              "      <td>0</td>\n",
              "      <td>1</td>\n",
              "    </tr>\n",
              "  </tbody>\n",
              "</table>\n",
              "</div>"
            ],
            "text/plain": [
              "        Age  Region_Code  ...  Driving_License_0  Driving_License_1\n",
              "0 -1.130182     0.267481  ...                  0                  1\n",
              "\n",
              "[1 rows x 15 columns]"
            ]
          },
          "metadata": {
            "tags": []
          },
          "execution_count": 85
        }
      ]
    },
    {
      "cell_type": "code",
      "metadata": {
        "id": "1aabkMxsr-AR"
      },
      "source": [
        "processed_data.iloc[:1,:5]=scaler.transform(processed_data[:1][numer])"
      ],
      "execution_count": null,
      "outputs": []
    },
    {
      "cell_type": "code",
      "metadata": {
        "colab": {
          "base_uri": "https://localhost:8080/"
        },
        "id": "AC3AxUScYY_Q",
        "outputId": "0460922e-6bee-4177-9c72-cf4005e9d7ec"
      },
      "source": [
        "processed_data.shape"
      ],
      "execution_count": null,
      "outputs": [
        {
          "output_type": "execute_result",
          "data": {
            "text/plain": [
              "(127037, 15)"
            ]
          },
          "metadata": {
            "tags": []
          },
          "execution_count": 87
        }
      ]
    },
    {
      "cell_type": "code",
      "metadata": {
        "colab": {
          "base_uri": "https://localhost:8080/",
          "height": 438
        },
        "id": "tRVtlZwAolvn",
        "outputId": "d509f6dc-7b2d-4650-8e1b-04ce387d89e0"
      },
      "source": [
        "processed_data"
      ],
      "execution_count": null,
      "outputs": [
        {
          "output_type": "execute_result",
          "data": {
            "text/html": [
              "<div>\n",
              "<style scoped>\n",
              "    .dataframe tbody tr th:only-of-type {\n",
              "        vertical-align: middle;\n",
              "    }\n",
              "\n",
              "    .dataframe tbody tr th {\n",
              "        vertical-align: top;\n",
              "    }\n",
              "\n",
              "    .dataframe thead th {\n",
              "        text-align: right;\n",
              "    }\n",
              "</style>\n",
              "<table border=\"1\" class=\"dataframe\">\n",
              "  <thead>\n",
              "    <tr style=\"text-align: right;\">\n",
              "      <th></th>\n",
              "      <th>Age</th>\n",
              "      <th>Region_Code</th>\n",
              "      <th>Previously_Insured</th>\n",
              "      <th>Annual_Premium</th>\n",
              "      <th>Policy_Sales_Channel</th>\n",
              "      <th>Vintage</th>\n",
              "      <th>Gender_Female</th>\n",
              "      <th>Gender_Male</th>\n",
              "      <th>Vehicle_Age_1-2 Year</th>\n",
              "      <th>Vehicle_Age_&lt; 1 Year</th>\n",
              "      <th>Vehicle_Age_&gt; 2 Years</th>\n",
              "      <th>Vehicle_Damage_No</th>\n",
              "      <th>Vehicle_Damage_Yes</th>\n",
              "      <th>Driving_License_0</th>\n",
              "      <th>Driving_License_1</th>\n",
              "    </tr>\n",
              "  </thead>\n",
              "  <tbody>\n",
              "    <tr>\n",
              "      <th>0</th>\n",
              "      <td>-3.026758</td>\n",
              "      <td>-1.739266</td>\n",
              "      <td>-1.876156</td>\n",
              "      <td>-1.215777</td>\n",
              "      <td>-2.175222</td>\n",
              "      <td>53</td>\n",
              "      <td>0</td>\n",
              "      <td>1</td>\n",
              "      <td>0</td>\n",
              "      <td>1</td>\n",
              "      <td>0</td>\n",
              "      <td>1</td>\n",
              "      <td>0</td>\n",
              "      <td>0</td>\n",
              "      <td>1</td>\n",
              "    </tr>\n",
              "    <tr>\n",
              "      <th>1</th>\n",
              "      <td>40.000000</td>\n",
              "      <td>28.000000</td>\n",
              "      <td>0.000000</td>\n",
              "      <td>33762.000000</td>\n",
              "      <td>7.000000</td>\n",
              "      <td>111</td>\n",
              "      <td>0</td>\n",
              "      <td>1</td>\n",
              "      <td>1</td>\n",
              "      <td>0</td>\n",
              "      <td>0</td>\n",
              "      <td>0</td>\n",
              "      <td>1</td>\n",
              "      <td>0</td>\n",
              "      <td>1</td>\n",
              "    </tr>\n",
              "    <tr>\n",
              "      <th>2</th>\n",
              "      <td>47.000000</td>\n",
              "      <td>28.000000</td>\n",
              "      <td>0.000000</td>\n",
              "      <td>40050.000000</td>\n",
              "      <td>124.000000</td>\n",
              "      <td>199</td>\n",
              "      <td>0</td>\n",
              "      <td>1</td>\n",
              "      <td>1</td>\n",
              "      <td>0</td>\n",
              "      <td>0</td>\n",
              "      <td>0</td>\n",
              "      <td>1</td>\n",
              "      <td>0</td>\n",
              "      <td>1</td>\n",
              "    </tr>\n",
              "    <tr>\n",
              "      <th>3</th>\n",
              "      <td>24.000000</td>\n",
              "      <td>27.000000</td>\n",
              "      <td>1.000000</td>\n",
              "      <td>37356.000000</td>\n",
              "      <td>152.000000</td>\n",
              "      <td>187</td>\n",
              "      <td>0</td>\n",
              "      <td>1</td>\n",
              "      <td>0</td>\n",
              "      <td>1</td>\n",
              "      <td>0</td>\n",
              "      <td>0</td>\n",
              "      <td>1</td>\n",
              "      <td>0</td>\n",
              "      <td>1</td>\n",
              "    </tr>\n",
              "    <tr>\n",
              "      <th>4</th>\n",
              "      <td>27.000000</td>\n",
              "      <td>28.000000</td>\n",
              "      <td>1.000000</td>\n",
              "      <td>59097.000000</td>\n",
              "      <td>152.000000</td>\n",
              "      <td>297</td>\n",
              "      <td>0</td>\n",
              "      <td>1</td>\n",
              "      <td>0</td>\n",
              "      <td>1</td>\n",
              "      <td>0</td>\n",
              "      <td>1</td>\n",
              "      <td>0</td>\n",
              "      <td>0</td>\n",
              "      <td>1</td>\n",
              "    </tr>\n",
              "    <tr>\n",
              "      <th>...</th>\n",
              "      <td>...</td>\n",
              "      <td>...</td>\n",
              "      <td>...</td>\n",
              "      <td>...</td>\n",
              "      <td>...</td>\n",
              "      <td>...</td>\n",
              "      <td>...</td>\n",
              "      <td>...</td>\n",
              "      <td>...</td>\n",
              "      <td>...</td>\n",
              "      <td>...</td>\n",
              "      <td>...</td>\n",
              "      <td>...</td>\n",
              "      <td>...</td>\n",
              "      <td>...</td>\n",
              "    </tr>\n",
              "    <tr>\n",
              "      <th>127032</th>\n",
              "      <td>26.000000</td>\n",
              "      <td>37.000000</td>\n",
              "      <td>1.000000</td>\n",
              "      <td>30867.000000</td>\n",
              "      <td>152.000000</td>\n",
              "      <td>56</td>\n",
              "      <td>1</td>\n",
              "      <td>0</td>\n",
              "      <td>0</td>\n",
              "      <td>1</td>\n",
              "      <td>0</td>\n",
              "      <td>1</td>\n",
              "      <td>0</td>\n",
              "      <td>0</td>\n",
              "      <td>1</td>\n",
              "    </tr>\n",
              "    <tr>\n",
              "      <th>127033</th>\n",
              "      <td>38.000000</td>\n",
              "      <td>28.000000</td>\n",
              "      <td>0.000000</td>\n",
              "      <td>28700.000000</td>\n",
              "      <td>122.000000</td>\n",
              "      <td>165</td>\n",
              "      <td>1</td>\n",
              "      <td>0</td>\n",
              "      <td>1</td>\n",
              "      <td>0</td>\n",
              "      <td>0</td>\n",
              "      <td>0</td>\n",
              "      <td>1</td>\n",
              "      <td>0</td>\n",
              "      <td>1</td>\n",
              "    </tr>\n",
              "    <tr>\n",
              "      <th>127034</th>\n",
              "      <td>21.000000</td>\n",
              "      <td>46.000000</td>\n",
              "      <td>1.000000</td>\n",
              "      <td>29802.000000</td>\n",
              "      <td>152.000000</td>\n",
              "      <td>74</td>\n",
              "      <td>0</td>\n",
              "      <td>1</td>\n",
              "      <td>0</td>\n",
              "      <td>1</td>\n",
              "      <td>0</td>\n",
              "      <td>1</td>\n",
              "      <td>0</td>\n",
              "      <td>0</td>\n",
              "      <td>1</td>\n",
              "    </tr>\n",
              "    <tr>\n",
              "      <th>127035</th>\n",
              "      <td>71.000000</td>\n",
              "      <td>28.000000</td>\n",
              "      <td>1.000000</td>\n",
              "      <td>62875.000000</td>\n",
              "      <td>26.000000</td>\n",
              "      <td>265</td>\n",
              "      <td>0</td>\n",
              "      <td>1</td>\n",
              "      <td>1</td>\n",
              "      <td>0</td>\n",
              "      <td>0</td>\n",
              "      <td>1</td>\n",
              "      <td>0</td>\n",
              "      <td>0</td>\n",
              "      <td>1</td>\n",
              "    </tr>\n",
              "    <tr>\n",
              "      <th>127036</th>\n",
              "      <td>41.000000</td>\n",
              "      <td>29.000000</td>\n",
              "      <td>1.000000</td>\n",
              "      <td>27927.000000</td>\n",
              "      <td>124.000000</td>\n",
              "      <td>231</td>\n",
              "      <td>0</td>\n",
              "      <td>1</td>\n",
              "      <td>1</td>\n",
              "      <td>0</td>\n",
              "      <td>0</td>\n",
              "      <td>1</td>\n",
              "      <td>0</td>\n",
              "      <td>0</td>\n",
              "      <td>1</td>\n",
              "    </tr>\n",
              "  </tbody>\n",
              "</table>\n",
              "<p>127037 rows × 15 columns</p>\n",
              "</div>"
            ],
            "text/plain": [
              "              Age  Region_Code  ...  Driving_License_0  Driving_License_1\n",
              "0       -3.026758    -1.739266  ...                  0                  1\n",
              "1       40.000000    28.000000  ...                  0                  1\n",
              "2       47.000000    28.000000  ...                  0                  1\n",
              "3       24.000000    27.000000  ...                  0                  1\n",
              "4       27.000000    28.000000  ...                  0                  1\n",
              "...           ...          ...  ...                ...                ...\n",
              "127032  26.000000    37.000000  ...                  0                  1\n",
              "127033  38.000000    28.000000  ...                  0                  1\n",
              "127034  21.000000    46.000000  ...                  0                  1\n",
              "127035  71.000000    28.000000  ...                  0                  1\n",
              "127036  41.000000    29.000000  ...                  0                  1\n",
              "\n",
              "[127037 rows x 15 columns]"
            ]
          },
          "metadata": {
            "tags": []
          },
          "execution_count": 88
        }
      ]
    },
    {
      "cell_type": "code",
      "metadata": {
        "colab": {
          "base_uri": "https://localhost:8080/",
          "height": 114
        },
        "id": "yk7oHLwVnGqW",
        "outputId": "b4cc159f-75f1-4475-b8e4-1b52be048250"
      },
      "source": [
        "processed_data[:1]"
      ],
      "execution_count": null,
      "outputs": [
        {
          "output_type": "execute_result",
          "data": {
            "text/html": [
              "<div>\n",
              "<style scoped>\n",
              "    .dataframe tbody tr th:only-of-type {\n",
              "        vertical-align: middle;\n",
              "    }\n",
              "\n",
              "    .dataframe tbody tr th {\n",
              "        vertical-align: top;\n",
              "    }\n",
              "\n",
              "    .dataframe thead th {\n",
              "        text-align: right;\n",
              "    }\n",
              "</style>\n",
              "<table border=\"1\" class=\"dataframe\">\n",
              "  <thead>\n",
              "    <tr style=\"text-align: right;\">\n",
              "      <th></th>\n",
              "      <th>Age</th>\n",
              "      <th>Region_Code</th>\n",
              "      <th>Previously_Insured</th>\n",
              "      <th>Annual_Premium</th>\n",
              "      <th>Policy_Sales_Channel</th>\n",
              "      <th>Vintage</th>\n",
              "      <th>Gender_Female</th>\n",
              "      <th>Gender_Male</th>\n",
              "      <th>Vehicle_Age_1-2 Year</th>\n",
              "      <th>Vehicle_Age_&lt; 1 Year</th>\n",
              "      <th>Vehicle_Age_&gt; 2 Years</th>\n",
              "      <th>Vehicle_Damage_No</th>\n",
              "      <th>Vehicle_Damage_Yes</th>\n",
              "      <th>Driving_License_0</th>\n",
              "      <th>Driving_License_1</th>\n",
              "    </tr>\n",
              "  </thead>\n",
              "  <tbody>\n",
              "    <tr>\n",
              "      <th>0</th>\n",
              "      <td>-3.026758</td>\n",
              "      <td>-1.739266</td>\n",
              "      <td>-1.876156</td>\n",
              "      <td>-1.215777</td>\n",
              "      <td>-2.175222</td>\n",
              "      <td>53</td>\n",
              "      <td>0</td>\n",
              "      <td>1</td>\n",
              "      <td>0</td>\n",
              "      <td>1</td>\n",
              "      <td>0</td>\n",
              "      <td>1</td>\n",
              "      <td>0</td>\n",
              "      <td>0</td>\n",
              "      <td>1</td>\n",
              "    </tr>\n",
              "  </tbody>\n",
              "</table>\n",
              "</div>"
            ],
            "text/plain": [
              "        Age  Region_Code  ...  Driving_License_0  Driving_License_1\n",
              "0 -3.026758    -1.739266  ...                  0                  1\n",
              "\n",
              "[1 rows x 15 columns]"
            ]
          },
          "metadata": {
            "tags": []
          },
          "execution_count": 89
        }
      ]
    },
    {
      "cell_type": "code",
      "metadata": {
        "colab": {
          "base_uri": "https://localhost:8080/",
          "height": 114
        },
        "id": "80TWDheDnXMO",
        "outputId": "d140048a-f586-4121-bd05-9dc3f97acdc9"
      },
      "source": [
        "processed_input_data"
      ],
      "execution_count": null,
      "outputs": [
        {
          "output_type": "execute_result",
          "data": {
            "text/html": [
              "<div>\n",
              "<style scoped>\n",
              "    .dataframe tbody tr th:only-of-type {\n",
              "        vertical-align: middle;\n",
              "    }\n",
              "\n",
              "    .dataframe tbody tr th {\n",
              "        vertical-align: top;\n",
              "    }\n",
              "\n",
              "    .dataframe thead th {\n",
              "        text-align: right;\n",
              "    }\n",
              "</style>\n",
              "<table border=\"1\" class=\"dataframe\">\n",
              "  <thead>\n",
              "    <tr style=\"text-align: right;\">\n",
              "      <th></th>\n",
              "      <th>Age</th>\n",
              "      <th>Region_Code</th>\n",
              "      <th>Previously_Insured</th>\n",
              "      <th>Annual_Premium</th>\n",
              "      <th>Policy_Sales_Channel</th>\n",
              "      <th>Vintage</th>\n",
              "      <th>Gender_Female</th>\n",
              "      <th>Gender_Male</th>\n",
              "      <th>Vehicle_Age_1-2 Year</th>\n",
              "      <th>Vehicle_Age_&lt; 1 Year</th>\n",
              "      <th>Vehicle_Age_&gt; 2 Years</th>\n",
              "      <th>Vehicle_Damage_No</th>\n",
              "      <th>Vehicle_Damage_Yes</th>\n",
              "      <th>Driving_License_0</th>\n",
              "      <th>Driving_License_1</th>\n",
              "    </tr>\n",
              "  </thead>\n",
              "  <tbody>\n",
              "    <tr>\n",
              "      <th>0</th>\n",
              "      <td>-1.130182</td>\n",
              "      <td>0.267481</td>\n",
              "      <td>0.879408</td>\n",
              "      <td>-1.215777</td>\n",
              "      <td>-1.284088</td>\n",
              "      <td>53</td>\n",
              "      <td>0</td>\n",
              "      <td>1</td>\n",
              "      <td>0</td>\n",
              "      <td>1</td>\n",
              "      <td>0</td>\n",
              "      <td>1</td>\n",
              "      <td>0</td>\n",
              "      <td>0</td>\n",
              "      <td>1</td>\n",
              "    </tr>\n",
              "  </tbody>\n",
              "</table>\n",
              "</div>"
            ],
            "text/plain": [
              "        Age  Region_Code  ...  Driving_License_0  Driving_License_1\n",
              "0 -1.130182     0.267481  ...                  0                  1\n",
              "\n",
              "[1 rows x 15 columns]"
            ]
          },
          "metadata": {
            "tags": []
          },
          "execution_count": 90
        }
      ]
    },
    {
      "cell_type": "code",
      "metadata": {
        "id": "PzWWRoy0nCH9"
      },
      "source": [
        "pip freeze > requirements.txt"
      ],
      "execution_count": null,
      "outputs": []
    },
    {
      "cell_type": "code",
      "metadata": {
        "id": "-3xiNJ_-DlY0"
      },
      "source": [
        ""
      ],
      "execution_count": null,
      "outputs": []
    }
  ]
}